{
  "nbformat": 4,
  "nbformat_minor": 0,
  "metadata": {
    "colab": {
      "provenance": [],
      "collapsed_sections": []
    },
    "kernelspec": {
      "name": "python3",
      "display_name": "Python 3"
    }
  },
  "cells": [
    {
      "cell_type": "code",
      "metadata": {
        "id": "9hcLqpRGwl-D"
      },
      "source": [
        "import numpy as np\n",
        "import pandas as pd\n",
        "import matplotlib.pyplot as plt"
      ],
      "execution_count": null,
      "outputs": []
    },
    {
      "cell_type": "code",
      "metadata": {
        "id": "HnAM5UeixDxG"
      },
      "source": [
        "data = pd.read_csv('/content/CSV_without Header.csv')"
      ],
      "execution_count": null,
      "outputs": []
    },
    {
      "cell_type": "code",
      "metadata": {
        "id": "KuBfGSdYxQiJ",
        "outputId": "a73f7bdb-df57-4979-abb8-04f1fe010526",
        "colab": {
          "base_uri": "https://localhost:8080/",
          "height": 415
        }
      },
      "source": [
        "data"
      ],
      "execution_count": null,
      "outputs": [
        {
          "output_type": "execute_result",
          "data": {
            "text/html": [
              "<div>\n",
              "<style scoped>\n",
              "    .dataframe tbody tr th:only-of-type {\n",
              "        vertical-align: middle;\n",
              "    }\n",
              "\n",
              "    .dataframe tbody tr th {\n",
              "        vertical-align: top;\n",
              "    }\n",
              "\n",
              "    .dataframe thead th {\n",
              "        text-align: right;\n",
              "    }\n",
              "</style>\n",
              "<table border=\"1\" class=\"dataframe\">\n",
              "  <thead>\n",
              "    <tr style=\"text-align: right;\">\n",
              "      <th></th>\n",
              "      <th>eruptions</th>\n",
              "      <th>waiting</th>\n",
              "    </tr>\n",
              "  </thead>\n",
              "  <tbody>\n",
              "    <tr>\n",
              "      <th>0</th>\n",
              "      <td>3.600</td>\n",
              "      <td>79</td>\n",
              "    </tr>\n",
              "    <tr>\n",
              "      <th>1</th>\n",
              "      <td>1.800</td>\n",
              "      <td>54</td>\n",
              "    </tr>\n",
              "    <tr>\n",
              "      <th>2</th>\n",
              "      <td>3.333</td>\n",
              "      <td>74</td>\n",
              "    </tr>\n",
              "    <tr>\n",
              "      <th>3</th>\n",
              "      <td>2.283</td>\n",
              "      <td>62</td>\n",
              "    </tr>\n",
              "    <tr>\n",
              "      <th>4</th>\n",
              "      <td>4.533</td>\n",
              "      <td>85</td>\n",
              "    </tr>\n",
              "    <tr>\n",
              "      <th>...</th>\n",
              "      <td>...</td>\n",
              "      <td>...</td>\n",
              "    </tr>\n",
              "    <tr>\n",
              "      <th>267</th>\n",
              "      <td>4.117</td>\n",
              "      <td>81</td>\n",
              "    </tr>\n",
              "    <tr>\n",
              "      <th>268</th>\n",
              "      <td>2.150</td>\n",
              "      <td>46</td>\n",
              "    </tr>\n",
              "    <tr>\n",
              "      <th>269</th>\n",
              "      <td>4.417</td>\n",
              "      <td>90</td>\n",
              "    </tr>\n",
              "    <tr>\n",
              "      <th>270</th>\n",
              "      <td>1.817</td>\n",
              "      <td>46</td>\n",
              "    </tr>\n",
              "    <tr>\n",
              "      <th>271</th>\n",
              "      <td>4.467</td>\n",
              "      <td>74</td>\n",
              "    </tr>\n",
              "  </tbody>\n",
              "</table>\n",
              "<p>272 rows × 2 columns</p>\n",
              "</div>"
            ],
            "text/plain": [
              "     eruptions  waiting\n",
              "0        3.600       79\n",
              "1        1.800       54\n",
              "2        3.333       74\n",
              "3        2.283       62\n",
              "4        4.533       85\n",
              "..         ...      ...\n",
              "267      4.117       81\n",
              "268      2.150       46\n",
              "269      4.417       90\n",
              "270      1.817       46\n",
              "271      4.467       74\n",
              "\n",
              "[272 rows x 2 columns]"
            ]
          },
          "metadata": {
            "tags": []
          },
          "execution_count": 3
        }
      ]
    },
    {
      "cell_type": "code",
      "metadata": {
        "id": "Au5OBTVky1Wp"
      },
      "source": [
        "x = data['eruptions']\n",
        "y = data['waiting']"
      ],
      "execution_count": null,
      "outputs": []
    },
    {
      "cell_type": "code",
      "metadata": {
        "id": "MrgFFHD3zPHU",
        "outputId": "9d4fd245-734f-412c-fe94-f6ce7e5117a9",
        "colab": {
          "base_uri": "https://localhost:8080/"
        }
      },
      "source": [
        "x"
      ],
      "execution_count": null,
      "outputs": [
        {
          "output_type": "execute_result",
          "data": {
            "text/plain": [
              "0      3.600\n",
              "1      1.800\n",
              "2      3.333\n",
              "3      2.283\n",
              "4      4.533\n",
              "       ...  \n",
              "267    4.117\n",
              "268    2.150\n",
              "269    4.417\n",
              "270    1.817\n",
              "271    4.467\n",
              "Name: eruptions, Length: 272, dtype: float64"
            ]
          },
          "metadata": {
            "tags": []
          },
          "execution_count": 5
        }
      ]
    },
    {
      "cell_type": "code",
      "metadata": {
        "id": "koT2K0mVzLzD",
        "outputId": "f0f586a8-0a6a-4f19-f02b-ab18297ad536",
        "colab": {
          "base_uri": "https://localhost:8080/"
        }
      },
      "source": [
        "y"
      ],
      "execution_count": null,
      "outputs": [
        {
          "output_type": "execute_result",
          "data": {
            "text/plain": [
              "0      79\n",
              "1      54\n",
              "2      74\n",
              "3      62\n",
              "4      85\n",
              "       ..\n",
              "267    81\n",
              "268    46\n",
              "269    90\n",
              "270    46\n",
              "271    74\n",
              "Name: waiting, Length: 272, dtype: int64"
            ]
          },
          "metadata": {
            "tags": []
          },
          "execution_count": 6
        }
      ]
    },
    {
      "cell_type": "code",
      "metadata": {
        "id": "p-VWKUS8yaLY",
        "outputId": "087b9e6b-d17b-4d70-b398-87a60d51cf7a",
        "colab": {
          "base_uri": "https://localhost:8080/",
          "height": 295
        }
      },
      "source": [
        "plt.scatter(x,y,  color='k', s=25, marker=\"o\")\n",
        "plt.xlabel('Eruption time')\n",
        "plt.ylabel('Waiting time')\n",
        "plt.title('Old Faithful Geyser')\n",
        "plt.show()"
      ],
      "execution_count": null,
      "outputs": [
        {
          "output_type": "display_data",
          "data": {
            "image/png": "[encoded data removed]",
            "text/plain": [
              "<Figure size 432x288 with 1 Axes>"
            ]
          },
          "metadata": {
            "tags": [],
            "needs_background": "light"
          }
        }
      ]
    },
    {
      "cell_type": "code",
      "metadata": {
        "id": "1h2dxAPxk2DL"
      },
      "source": [
        "import numpy as np\n",
        "from numpy.linalg import norm\n",
        "\n",
        "\n",
        "class Kmeans:\n",
        "    '''Implementing Kmeans algorithm.'''\n",
        "\n",
        "    def __init__(self, n_clusters, max_iter=100, random_state=123):\n",
        "        self.n_clusters = n_clusters\n",
        "        self.max_iter = max_iter\n",
        "        self.random_state = random_state\n",
        "\n",
        "    def initializ_centroids(self, X):\n",
        "        np.random.RandomState(self.random_state)\n",
        "        random_idx = np.random.permutation(X.shape[0])\n",
        "        centroids = X[random_idx[:self.n_clusters]]\n",
        "        return centroids\n",
        "\n",
        "    def compute_centroids(self, X, labels):\n",
        "        centroids = np.zeros((self.n_clusters, X.shape[1]))\n",
        "        for k in range(self.n_clusters):\n",
        "            centroids[k, :] = np.mean(X[labels == k, :], axis=0)\n",
        "        return centroids\n",
        "\n",
        "    def compute_distance(self, X, centroids):\n",
        "        distance = np.zeros((X.shape[0], self.n_clusters))\n",
        "        for k in range(self.n_clusters):\n",
        "            row_norm = norm(X - centroids[k, :], axis=1)\n",
        "            distance[:, k] = np.square(row_norm)\n",
        "        return distance\n",
        "\n",
        "    def find_closest_cluster(self, distance):\n",
        "        return np.argmin(distance, axis=1)\n",
        "\n",
        "    def compute_sse(self, X, labels, centroids):\n",
        "        distance = np.zeros(X.shape[0])\n",
        "        for k in range(self.n_clusters):\n",
        "            distance[labels == k] = norm(X[labels == k] - centroids[k], axis=1)\n",
        "        return np.sum(np.square(distance))\n",
        "    \n",
        "    def fit(self, X):\n",
        "        list1 = []\n",
        "        self.centroids = self.initializ_centroids(X)\n",
        "        for i in range(self.max_iter):\n",
        "             \n",
        "            old_centroids = self.centroids\n",
        "            distance = self.compute_distance(X, old_centroids)\n",
        "            self.labels = self.find_closest_cluster(distance)\n",
        "            self.centroids = self.compute_centroids(X, self.labels)\n",
        "            temp_error = self.compute_sse(X, self.labels, self.centroids)\n",
        "            list1.append(temp_error)\n",
        "            \n",
        "            if np.all(old_centroids == self.centroids):\n",
        "                break\n",
        "        self.error = self.compute_sse(X, self.labels, self.centroids)\n",
        "        return list1\n",
        "\n",
        "    def predict(self, X):\n",
        "        distance = self.compute_distance(X, old_centroids)\n",
        "        return self.find_closest_cluster(distance)"
      ],
      "execution_count": null,
      "outputs": []
    },
    {
      "cell_type": "code",
      "metadata": {
        "id": "1VmqyamNlLQV",
        "outputId": "8760beb7-fcdb-4d1c-c18a-223a3d78eae8",
        "colab": {
          "base_uri": "https://localhost:8080/",
          "height": 459
        }
      },
      "source": [
        "# Modules\n",
        "import matplotlib.pyplot as plt\n",
        "import pandas as pd\n",
        "from sklearn.datasets.samples_generator import (make_blobs,\n",
        "                                                make_circles,\n",
        "                                                make_moons)\n",
        "from sklearn.preprocessing import StandardScaler\n",
        "\n",
        "\n",
        "# Standardize the data\n",
        "X_std = StandardScaler().fit_transform(data)\n",
        "\n",
        "# Run local implementation of kmeans\n",
        "km = Kmeans(n_clusters=2, max_iter=100)\n",
        "error_list = km.fit(X_std)\n",
        "\n",
        "centroids = km.centroids\n",
        "\n",
        "# Plot the clustered data\n",
        "fig, ax = plt.subplots(figsize=(6, 6))\n",
        "plt.scatter(X_std[km.labels == 0, 0], X_std[km.labels == 0, 1],\n",
        "            c='green', label='cluster 1')\n",
        "plt.scatter(X_std[km.labels == 1, 0], X_std[km.labels == 1, 1],\n",
        "            c='blue', label='cluster 2')\n",
        "plt.scatter(centroids[:, 0], centroids[:, 1], marker='*', s=300,\n",
        "            c='r', label='centroid')\n",
        "plt.legend()\n",
        "plt.xlim([-2, 2])\n",
        "plt.ylim([-2, 2])\n",
        "plt.xlabel('Eruption time')\n",
        "plt.ylabel('Waiting time')\n",
        "plt.title('Scatter Plot after performing K-Means Clustering', fontweight='bold')\n",
        "ax.set_aspect('equal');"
      ],
      "execution_count": null,
      "outputs": [
        {
          "output_type": "stream",
          "text": [
            "/usr/local/lib/python3.6/dist-packages/sklearn/utils/deprecation.py:144: FutureWarning: The sklearn.datasets.samples_generator module is  deprecated in version 0.22 and will be removed in version 0.24. The corresponding classes / functions should instead be imported from sklearn.datasets. Anything that cannot be imported from sklearn.datasets is now part of the private API.\n",
            "  warnings.warn(message, FutureWarning)\n"
          ],
          "name": "stderr"
        },
        {
          "output_type": "display_data",
          "data": {
            "image/png": "[encoded data removed]",
            "text/plain": [
              "<Figure size 432x432 with 1 Axes>"
            ]
          },
          "metadata": {
            "tags": [],
            "needs_background": "light"
          }
        }
      ]
    },
    {
      "cell_type": "code",
      "metadata": {
        "id": "Ev2RAHmcysG7",
        "outputId": "db5a4c8f-9478-4b53-c3be-4363b9f0cbf2",
        "colab": {
          "base_uri": "https://localhost:8080/"
        }
      },
      "source": [
        "error_list"
      ],
      "execution_count": null,
      "outputs": [
        {
          "output_type": "execute_result",
          "data": {
            "text/plain": [
              "[128.47282393545888,\n",
              " 80.96792556114684,\n",
              " 79.63566081947323,\n",
              " 79.57595948827701,\n",
              " 79.57595948827701]"
            ]
          },
          "metadata": {
            "tags": []
          },
          "execution_count": 10
        }
      ]
    },
    {
      "cell_type": "code",
      "metadata": {
        "id": "50Klxz2usW8f"
      },
      "source": [
        "x=[1,2,3,4,5]\n",
        "y= error_list"
      ],
      "execution_count": null,
      "outputs": []
    },
    {
      "cell_type": "code",
      "metadata": {
        "id": "o-Cio0Z4srXq",
        "outputId": "72fca85c-7e8e-48a4-acaa-3933710ed3d8",
        "colab": {
          "base_uri": "https://localhost:8080/",
          "height": 313
        }
      },
      "source": [
        "plt.plot(x,y)\n",
        "plt.xlabel('Iteration')\n",
        "plt.ylabel('Objective Function')\n",
        "plt.title('Plot of Objective Function vs Iteration', fontweight='bold')"
      ],
      "execution_count": null,
      "outputs": [
        {
          "output_type": "execute_result",
          "data": {
            "text/plain": [
              "Text(0.5, 1.0, 'Plot of Objective Function vs Iteration')"
            ]
          },
          "metadata": {
            "tags": []
          },
          "execution_count": 26
        },
        {
          "output_type": "display_data",
          "data": {
            "image/png": "[encoded data removed]",
            "text/plain": [
              "<Figure size 432x288 with 1 Axes>"
            ]
          },
          "metadata": {
            "tags": [],
            "needs_background": "light"
          }
        }
      ]
    },
    {
      "cell_type": "code",
      "metadata": {
        "id": "wkZuZYrXtri1",
        "outputId": "d6284aad-13c7-46ac-d4e9-8173128b0404",
        "colab": {
          "base_uri": "https://localhost:8080/",
          "height": 404
        }
      },
      "source": [
        "# Modules\n",
        "import matplotlib.pyplot as plt\n",
        "import pandas as pd\n",
        "from sklearn.datasets.samples_generator import (make_blobs,\n",
        "                                                make_circles,\n",
        "                                                make_moons)\n",
        "from sklearn.preprocessing import StandardScaler\n",
        "\n",
        "\n",
        "# Standardize the data\n",
        "X_std = StandardScaler().fit_transform(data)\n",
        "\n",
        "# Run local implementation of kmeans\n",
        "km = Kmeans(n_clusters=3, max_iter=100)\n",
        "km.fit(X_std)\n",
        "centroids = km.centroids\n",
        "\n",
        "# Plot the clustered data\n",
        "fig, ax = plt.subplots(figsize=(6, 6))\n",
        "plt.scatter(X_std[km.labels == 0, 0], X_std[km.labels == 0, 1],\n",
        "            c='green', label='cluster 1')\n",
        "plt.scatter(X_std[km.labels == 1, 0], X_std[km.labels == 1, 1],\n",
        "            c='blue', label='cluster 2')\n",
        "plt.scatter(X_std[km.labels == 2, 0], X_std[km.labels == 2, 1],\n",
        "            c='yellow', label='cluster 3')\n",
        "plt.scatter(centroids[:, 0], centroids[:, 1], marker='*', s=300,\n",
        "            c='r', label='centroid')\n",
        "plt.legend()\n",
        "plt.xlim([-2, 2])\n",
        "plt.ylim([-2, 2])\n",
        "plt.xlabel('Eruption time')\n",
        "plt.ylabel('Waiting time')\n",
        "plt.title('Scatter Plot after performing K-Means Clustering', fontweight='bold')\n",
        "ax.set_aspect('equal');"
      ],
      "execution_count": null,
      "outputs": [
        {
          "output_type": "display_data",
          "data": {
            "image/png": "[encoded data removed]",
            "text/plain": [
              "<Figure size 432x432 with 1 Axes>"
            ]
          },
          "metadata": {
            "tags": [],
            "needs_background": "light"
          }
        }
      ]
    }
  ]
}