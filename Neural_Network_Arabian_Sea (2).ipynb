{
  "nbformat": 4,
  "nbformat_minor": 0,
  "metadata": {
    "colab": {
      "provenance": [],
      "collapsed_sections": []
    },
    "kernelspec": {
      "name": "python3",
      "display_name": "Python 3"
    },
    "accelerator": "GPU"
  },
  "cells": [
    {
      "cell_type": "code",
      "metadata": {
        "id": "t0kgEahuAYQF"
      },
      "source": [
        "#Prerequisite: Need to upload ArabianSea_1.csv to execute this file\n",
        "import pandas as pd\n",
        "df1=pd.read_csv('/content/ArabianSea_1.csv')"
      ],
      "execution_count": null,
      "outputs": []
    },
    {
      "cell_type": "code",
      "metadata": {
        "id": "0ms38WHbm-98",
        "outputId": "9641457f-2bba-4ce1-ff0e-498277a75f51",
        "colab": {
          "base_uri": "https://localhost:8080/",
          "height": 794
        }
      },
      "source": [
        "df1.isna().sum()"
      ],
      "execution_count": null,
      "outputs": [
        {
          "output_type": "execute_result",
          "data": {
            "text/plain": [
              "Band1      0\n",
              "Band2      0\n",
              "Band3      0\n",
              "Band4      0\n",
              "Band5      0\n",
              "Band6      0\n",
              "Band7      0\n",
              "Band8      0\n",
              "Band9      0\n",
              "Band10     0\n",
              "Band11     0\n",
              "Band12     0\n",
              "Band13     0\n",
              "Band14     0\n",
              "Band15     0\n",
              "Band16     0\n",
              "Band17     0\n",
              "Band18     0\n",
              "Band19     0\n",
              "Band20     0\n",
              "Band21     0\n",
              "Band22     0\n",
              "Band23     0\n",
              "Band24    66\n",
              "Band25     0\n",
              "Band26     0\n",
              "Band27     0\n",
              "Band28     0\n",
              "Band29     0\n",
              "Band30     0\n",
              "Band31     0\n",
              "Band32     0\n",
              "Band33     0\n",
              "Band34     0\n",
              "Band35     0\n",
              "Band36     0\n",
              "Band37     0\n",
              "Band38     0\n",
              "Band39     0\n",
              "Band40     0\n",
              "Band41     0\n",
              "Band42     0\n",
              "id         0\n",
              "dust       0\n",
              "dtype: int64"
            ]
          },
          "metadata": {
            "tags": []
          },
          "execution_count": 2
        }
      ]
    },
    {
      "cell_type": "code",
      "metadata": {
        "id": "rqWKXl6InEm0"
      },
      "source": [
        "df1 = df1.dropna()"
      ],
      "execution_count": null,
      "outputs": []
    },
    {
      "cell_type": "code",
      "metadata": {
        "id": "ZvE7oGbIJV65",
        "outputId": "2f0974b3-3a42-485e-8f9f-08e913f34070",
        "colab": {
          "base_uri": "https://localhost:8080/",
          "height": 34
        }
      },
      "source": [
        "df1.shape"
      ],
      "execution_count": null,
      "outputs": [
        {
          "output_type": "execute_result",
          "data": {
            "text/plain": [
              "(3264, 44)"
            ]
          },
          "metadata": {
            "tags": []
          },
          "execution_count": 4
        }
      ]
    },
    {
      "cell_type": "code",
      "metadata": {
        "id": "0bys4XWjJX5i",
        "outputId": "9dc3d751-52e4-4599-b477-04461613f4d8",
        "colab": {
          "base_uri": "https://localhost:8080/",
          "height": 259
        }
      },
      "source": [
        "df1.head"
      ],
      "execution_count": null,
      "outputs": [
        {
          "output_type": "execute_result",
          "data": {
            "text/plain": [
              "<bound method NDFrame.head of          Band1     Band2     Band3     Band4  ...  Band41  Band42   id  dust\n",
              "0     0.039940  0.024198  0.112813  0.062288  ...   18.53  -97.49    0     0\n",
              "1     0.041253  0.024921  0.113589  0.062666  ...   18.53  -97.49    0     0\n",
              "2     0.113306  0.106017  0.170824  0.128386  ...   18.53  -98.91    0     0\n",
              "3     0.066146  0.052175  0.137252  0.088771  ...   18.53  -98.91    0     0\n",
              "4     0.202981  0.206838  0.241495  0.206545  ...   18.53  -98.91    0     0\n",
              "...        ...       ...       ...       ...  ...     ...     ...  ...   ...\n",
              "3325  0.000000  0.000000  0.000000  0.000000  ...    0.00    0.00  332     0\n",
              "3326  0.000000  0.000000  0.000000  0.000000  ...    0.00    0.00  332     0\n",
              "3327  0.000000  0.000000  0.000000  0.000000  ...    0.00    0.00  332     0\n",
              "3328  0.000000  0.000000  0.000000  0.000000  ...    0.00    0.00  332     0\n",
              "3329  0.000000  0.000000  0.000000  0.000000  ...    0.00    0.00  332     0\n",
              "\n",
              "[3264 rows x 44 columns]>"
            ]
          },
          "metadata": {
            "tags": []
          },
          "execution_count": 5
        }
      ]
    },
    {
      "cell_type": "code",
      "metadata": {
        "id": "l8jvWxtQJcLx",
        "outputId": "ca0c1185-4c8e-481a-e493-5f73ab47d15b",
        "colab": {
          "base_uri": "https://localhost:8080/",
          "height": 440
        }
      },
      "source": [
        "df1"
      ],
      "execution_count": null,
      "outputs": [
        {
          "output_type": "execute_result",
          "data": {
            "text/html": [
              "<div>\n",
              "<style scoped>\n",
              "    .dataframe tbody tr th:only-of-type {\n",
              "        vertical-align: middle;\n",
              "    }\n",
              "\n",
              "    .dataframe tbody tr th {\n",
              "        vertical-align: top;\n",
              "    }\n",
              "\n",
              "    .dataframe thead th {\n",
              "        text-align: right;\n",
              "    }\n",
              "</style>\n",
              "<table border=\"1\" class=\"dataframe\">\n",
              "  <thead>\n",
              "    <tr style=\"text-align: right;\">\n",
              "      <th></th>\n",
              "      <th>Band1</th>\n",
              "      <th>Band2</th>\n",
              "      <th>Band3</th>\n",
              "      <th>Band4</th>\n",
              "      <th>Band5</th>\n",
              "      <th>Band6</th>\n",
              "      <th>Band7</th>\n",
              "      <th>Band8</th>\n",
              "      <th>Band9</th>\n",
              "      <th>Band10</th>\n",
              "      <th>Band11</th>\n",
              "      <th>Band12</th>\n",
              "      <th>Band13</th>\n",
              "      <th>Band14</th>\n",
              "      <th>Band15</th>\n",
              "      <th>Band16</th>\n",
              "      <th>Band17</th>\n",
              "      <th>Band18</th>\n",
              "      <th>Band19</th>\n",
              "      <th>Band20</th>\n",
              "      <th>Band21</th>\n",
              "      <th>Band22</th>\n",
              "      <th>Band23</th>\n",
              "      <th>Band24</th>\n",
              "      <th>Band25</th>\n",
              "      <th>Band26</th>\n",
              "      <th>Band27</th>\n",
              "      <th>Band28</th>\n",
              "      <th>Band29</th>\n",
              "      <th>Band30</th>\n",
              "      <th>Band31</th>\n",
              "      <th>Band32</th>\n",
              "      <th>Band33</th>\n",
              "      <th>Band34</th>\n",
              "      <th>Band35</th>\n",
              "      <th>Band36</th>\n",
              "      <th>Band37</th>\n",
              "      <th>Band38</th>\n",
              "      <th>Band39</th>\n",
              "      <th>Band40</th>\n",
              "      <th>Band41</th>\n",
              "      <th>Band42</th>\n",
              "      <th>id</th>\n",
              "      <th>dust</th>\n",
              "    </tr>\n",
              "  </thead>\n",
              "  <tbody>\n",
              "    <tr>\n",
              "      <th>0</th>\n",
              "      <td>0.039940</td>\n",
              "      <td>0.024198</td>\n",
              "      <td>0.112813</td>\n",
              "      <td>0.062288</td>\n",
              "      <td>0.016904</td>\n",
              "      <td>0.015866</td>\n",
              "      <td>0.008598</td>\n",
              "      <td>0.164001</td>\n",
              "      <td>0.134363</td>\n",
              "      <td>0.101141</td>\n",
              "      <td>0.073449</td>\n",
              "      <td>0.066226</td>\n",
              "      <td>0.039268</td>\n",
              "      <td>0.072192</td>\n",
              "      <td>0.038341</td>\n",
              "      <td>0.055545</td>\n",
              "      <td>0.031778</td>\n",
              "      <td>0.024712</td>\n",
              "      <td>0.016862</td>\n",
              "      <td>0.007276</td>\n",
              "      <td>0.010132</td>\n",
              "      <td>0.001882</td>\n",
              "      <td>302.613201</td>\n",
              "      <td>299.901155</td>\n",
              "      <td>300.923546</td>\n",
              "      <td>298.072299</td>\n",
              "      <td>250.464129</td>\n",
              "      <td>274.209974</td>\n",
              "      <td>258.369887</td>\n",
              "      <td>272.300576</td>\n",
              "      <td>295.561107</td>\n",
              "      <td>277.842406</td>\n",
              "      <td>297.093643</td>\n",
              "      <td>295.841632</td>\n",
              "      <td>273.774037</td>\n",
              "      <td>261.506647</td>\n",
              "      <td>251.268528</td>\n",
              "      <td>302.523675</td>\n",
              "      <td>38.67</td>\n",
              "      <td>-131.43</td>\n",
              "      <td>18.53</td>\n",
              "      <td>-97.49</td>\n",
              "      <td>0</td>\n",
              "      <td>0</td>\n",
              "    </tr>\n",
              "    <tr>\n",
              "      <th>1</th>\n",
              "      <td>0.041253</td>\n",
              "      <td>0.024921</td>\n",
              "      <td>0.113589</td>\n",
              "      <td>0.062666</td>\n",
              "      <td>0.041765</td>\n",
              "      <td>0.014060</td>\n",
              "      <td>0.029500</td>\n",
              "      <td>0.164828</td>\n",
              "      <td>0.135699</td>\n",
              "      <td>0.102146</td>\n",
              "      <td>0.073767</td>\n",
              "      <td>0.066126</td>\n",
              "      <td>0.040383</td>\n",
              "      <td>0.072192</td>\n",
              "      <td>0.039600</td>\n",
              "      <td>0.055545</td>\n",
              "      <td>0.033126</td>\n",
              "      <td>0.025708</td>\n",
              "      <td>0.017723</td>\n",
              "      <td>0.008070</td>\n",
              "      <td>0.010378</td>\n",
              "      <td>0.001763</td>\n",
              "      <td>304.288654</td>\n",
              "      <td>301.527650</td>\n",
              "      <td>301.508194</td>\n",
              "      <td>298.211133</td>\n",
              "      <td>250.432194</td>\n",
              "      <td>274.245047</td>\n",
              "      <td>258.516024</td>\n",
              "      <td>272.038114</td>\n",
              "      <td>295.107952</td>\n",
              "      <td>277.437952</td>\n",
              "      <td>296.712829</td>\n",
              "      <td>295.335702</td>\n",
              "      <td>273.483063</td>\n",
              "      <td>261.402570</td>\n",
              "      <td>251.231991</td>\n",
              "      <td>231.331148</td>\n",
              "      <td>38.67</td>\n",
              "      <td>-131.43</td>\n",
              "      <td>18.53</td>\n",
              "      <td>-97.49</td>\n",
              "      <td>0</td>\n",
              "      <td>0</td>\n",
              "    </tr>\n",
              "    <tr>\n",
              "      <th>2</th>\n",
              "      <td>0.113306</td>\n",
              "      <td>0.106017</td>\n",
              "      <td>0.170824</td>\n",
              "      <td>0.128386</td>\n",
              "      <td>0.114877</td>\n",
              "      <td>2.274931</td>\n",
              "      <td>0.090621</td>\n",
              "      <td>0.212789</td>\n",
              "      <td>0.189852</td>\n",
              "      <td>0.162370</td>\n",
              "      <td>0.139701</td>\n",
              "      <td>0.250434</td>\n",
              "      <td>0.149357</td>\n",
              "      <td>0.072192</td>\n",
              "      <td>0.153420</td>\n",
              "      <td>0.055545</td>\n",
              "      <td>0.145841</td>\n",
              "      <td>0.126809</td>\n",
              "      <td>0.079016</td>\n",
              "      <td>0.026390</td>\n",
              "      <td>0.043205</td>\n",
              "      <td>0.000739</td>\n",
              "      <td>308.585560</td>\n",
              "      <td>303.982181</td>\n",
              "      <td>303.199401</td>\n",
              "      <td>298.541744</td>\n",
              "      <td>250.271851</td>\n",
              "      <td>273.626132</td>\n",
              "      <td>258.418657</td>\n",
              "      <td>272.095969</td>\n",
              "      <td>294.230386</td>\n",
              "      <td>276.913624</td>\n",
              "      <td>295.577405</td>\n",
              "      <td>294.357367</td>\n",
              "      <td>273.425430</td>\n",
              "      <td>261.304036</td>\n",
              "      <td>251.414556</td>\n",
              "      <td>231.145835</td>\n",
              "      <td>38.70</td>\n",
              "      <td>-131.48</td>\n",
              "      <td>18.53</td>\n",
              "      <td>-98.91</td>\n",
              "      <td>0</td>\n",
              "      <td>0</td>\n",
              "    </tr>\n",
              "    <tr>\n",
              "      <th>3</th>\n",
              "      <td>0.066146</td>\n",
              "      <td>0.052175</td>\n",
              "      <td>0.137252</td>\n",
              "      <td>0.088771</td>\n",
              "      <td>0.080110</td>\n",
              "      <td>2.274931</td>\n",
              "      <td>0.057925</td>\n",
              "      <td>0.186319</td>\n",
              "      <td>0.158742</td>\n",
              "      <td>0.127388</td>\n",
              "      <td>0.101754</td>\n",
              "      <td>0.095026</td>\n",
              "      <td>0.069519</td>\n",
              "      <td>0.072192</td>\n",
              "      <td>0.070431</td>\n",
              "      <td>0.055545</td>\n",
              "      <td>0.064181</td>\n",
              "      <td>0.056027</td>\n",
              "      <td>0.037797</td>\n",
              "      <td>0.014618</td>\n",
              "      <td>0.022156</td>\n",
              "      <td>0.002215</td>\n",
              "      <td>306.468522</td>\n",
              "      <td>303.529720</td>\n",
              "      <td>302.540982</td>\n",
              "      <td>298.632940</td>\n",
              "      <td>250.651298</td>\n",
              "      <td>273.821291</td>\n",
              "      <td>258.147163</td>\n",
              "      <td>272.050392</td>\n",
              "      <td>294.473111</td>\n",
              "      <td>277.136477</td>\n",
              "      <td>296.196777</td>\n",
              "      <td>294.964776</td>\n",
              "      <td>273.470258</td>\n",
              "      <td>261.385684</td>\n",
              "      <td>251.420169</td>\n",
              "      <td>231.418924</td>\n",
              "      <td>38.70</td>\n",
              "      <td>-131.48</td>\n",
              "      <td>18.53</td>\n",
              "      <td>-98.91</td>\n",
              "      <td>0</td>\n",
              "      <td>0</td>\n",
              "    </tr>\n",
              "    <tr>\n",
              "      <th>4</th>\n",
              "      <td>0.202981</td>\n",
              "      <td>0.206838</td>\n",
              "      <td>0.241495</td>\n",
              "      <td>0.206545</td>\n",
              "      <td>0.246561</td>\n",
              "      <td>0.255864</td>\n",
              "      <td>0.181610</td>\n",
              "      <td>0.273125</td>\n",
              "      <td>0.258839</td>\n",
              "      <td>0.402292</td>\n",
              "      <td>0.319484</td>\n",
              "      <td>0.250434</td>\n",
              "      <td>0.149357</td>\n",
              "      <td>0.072192</td>\n",
              "      <td>0.153420</td>\n",
              "      <td>0.055545</td>\n",
              "      <td>0.145841</td>\n",
              "      <td>0.126809</td>\n",
              "      <td>0.157486</td>\n",
              "      <td>0.053276</td>\n",
              "      <td>0.088353</td>\n",
              "      <td>-0.000999</td>\n",
              "      <td>312.807886</td>\n",
              "      <td>305.300745</td>\n",
              "      <td>304.639770</td>\n",
              "      <td>298.705699</td>\n",
              "      <td>249.626409</td>\n",
              "      <td>272.607350</td>\n",
              "      <td>258.603122</td>\n",
              "      <td>272.052145</td>\n",
              "      <td>292.213040</td>\n",
              "      <td>275.388304</td>\n",
              "      <td>293.557355</td>\n",
              "      <td>292.582988</td>\n",
              "      <td>272.841260</td>\n",
              "      <td>260.945815</td>\n",
              "      <td>251.192631</td>\n",
              "      <td>231.468706</td>\n",
              "      <td>38.70</td>\n",
              "      <td>-131.48</td>\n",
              "      <td>18.53</td>\n",
              "      <td>-98.91</td>\n",
              "      <td>0</td>\n",
              "      <td>0</td>\n",
              "    </tr>\n",
              "    <tr>\n",
              "      <th>...</th>\n",
              "      <td>...</td>\n",
              "      <td>...</td>\n",
              "      <td>...</td>\n",
              "      <td>...</td>\n",
              "      <td>...</td>\n",
              "      <td>...</td>\n",
              "      <td>...</td>\n",
              "      <td>...</td>\n",
              "      <td>...</td>\n",
              "      <td>...</td>\n",
              "      <td>...</td>\n",
              "      <td>...</td>\n",
              "      <td>...</td>\n",
              "      <td>...</td>\n",
              "      <td>...</td>\n",
              "      <td>...</td>\n",
              "      <td>...</td>\n",
              "      <td>...</td>\n",
              "      <td>...</td>\n",
              "      <td>...</td>\n",
              "      <td>...</td>\n",
              "      <td>...</td>\n",
              "      <td>...</td>\n",
              "      <td>...</td>\n",
              "      <td>...</td>\n",
              "      <td>...</td>\n",
              "      <td>...</td>\n",
              "      <td>...</td>\n",
              "      <td>...</td>\n",
              "      <td>...</td>\n",
              "      <td>...</td>\n",
              "      <td>...</td>\n",
              "      <td>...</td>\n",
              "      <td>...</td>\n",
              "      <td>...</td>\n",
              "      <td>...</td>\n",
              "      <td>...</td>\n",
              "      <td>...</td>\n",
              "      <td>...</td>\n",
              "      <td>...</td>\n",
              "      <td>...</td>\n",
              "      <td>...</td>\n",
              "      <td>...</td>\n",
              "      <td>...</td>\n",
              "    </tr>\n",
              "    <tr>\n",
              "      <th>3325</th>\n",
              "      <td>0.000000</td>\n",
              "      <td>0.000000</td>\n",
              "      <td>0.000000</td>\n",
              "      <td>0.000000</td>\n",
              "      <td>0.000000</td>\n",
              "      <td>0.000000</td>\n",
              "      <td>0.000000</td>\n",
              "      <td>0.000000</td>\n",
              "      <td>0.000000</td>\n",
              "      <td>0.000000</td>\n",
              "      <td>0.000000</td>\n",
              "      <td>0.000000</td>\n",
              "      <td>0.000000</td>\n",
              "      <td>0.000000</td>\n",
              "      <td>0.000000</td>\n",
              "      <td>0.000000</td>\n",
              "      <td>0.000000</td>\n",
              "      <td>0.000000</td>\n",
              "      <td>0.000000</td>\n",
              "      <td>0.000000</td>\n",
              "      <td>0.000000</td>\n",
              "      <td>0.000000</td>\n",
              "      <td>0.000000</td>\n",
              "      <td>0.000000</td>\n",
              "      <td>0.000000</td>\n",
              "      <td>0.000000</td>\n",
              "      <td>0.000000</td>\n",
              "      <td>0.000000</td>\n",
              "      <td>0.000000</td>\n",
              "      <td>0.000000</td>\n",
              "      <td>0.000000</td>\n",
              "      <td>0.000000</td>\n",
              "      <td>0.000000</td>\n",
              "      <td>0.000000</td>\n",
              "      <td>0.000000</td>\n",
              "      <td>0.000000</td>\n",
              "      <td>0.000000</td>\n",
              "      <td>0.000000</td>\n",
              "      <td>0.00</td>\n",
              "      <td>0.00</td>\n",
              "      <td>0.00</td>\n",
              "      <td>0.00</td>\n",
              "      <td>332</td>\n",
              "      <td>0</td>\n",
              "    </tr>\n",
              "    <tr>\n",
              "      <th>3326</th>\n",
              "      <td>0.000000</td>\n",
              "      <td>0.000000</td>\n",
              "      <td>0.000000</td>\n",
              "      <td>0.000000</td>\n",
              "      <td>0.000000</td>\n",
              "      <td>0.000000</td>\n",
              "      <td>0.000000</td>\n",
              "      <td>0.000000</td>\n",
              "      <td>0.000000</td>\n",
              "      <td>0.000000</td>\n",
              "      <td>0.000000</td>\n",
              "      <td>0.000000</td>\n",
              "      <td>0.000000</td>\n",
              "      <td>0.000000</td>\n",
              "      <td>0.000000</td>\n",
              "      <td>0.000000</td>\n",
              "      <td>0.000000</td>\n",
              "      <td>0.000000</td>\n",
              "      <td>0.000000</td>\n",
              "      <td>0.000000</td>\n",
              "      <td>0.000000</td>\n",
              "      <td>0.000000</td>\n",
              "      <td>0.000000</td>\n",
              "      <td>0.000000</td>\n",
              "      <td>0.000000</td>\n",
              "      <td>0.000000</td>\n",
              "      <td>0.000000</td>\n",
              "      <td>0.000000</td>\n",
              "      <td>0.000000</td>\n",
              "      <td>0.000000</td>\n",
              "      <td>0.000000</td>\n",
              "      <td>0.000000</td>\n",
              "      <td>0.000000</td>\n",
              "      <td>0.000000</td>\n",
              "      <td>0.000000</td>\n",
              "      <td>0.000000</td>\n",
              "      <td>0.000000</td>\n",
              "      <td>0.000000</td>\n",
              "      <td>0.00</td>\n",
              "      <td>0.00</td>\n",
              "      <td>0.00</td>\n",
              "      <td>0.00</td>\n",
              "      <td>332</td>\n",
              "      <td>0</td>\n",
              "    </tr>\n",
              "    <tr>\n",
              "      <th>3327</th>\n",
              "      <td>0.000000</td>\n",
              "      <td>0.000000</td>\n",
              "      <td>0.000000</td>\n",
              "      <td>0.000000</td>\n",
              "      <td>0.000000</td>\n",
              "      <td>0.000000</td>\n",
              "      <td>0.000000</td>\n",
              "      <td>0.000000</td>\n",
              "      <td>0.000000</td>\n",
              "      <td>0.000000</td>\n",
              "      <td>0.000000</td>\n",
              "      <td>0.000000</td>\n",
              "      <td>0.000000</td>\n",
              "      <td>0.000000</td>\n",
              "      <td>0.000000</td>\n",
              "      <td>0.000000</td>\n",
              "      <td>0.000000</td>\n",
              "      <td>0.000000</td>\n",
              "      <td>0.000000</td>\n",
              "      <td>0.000000</td>\n",
              "      <td>0.000000</td>\n",
              "      <td>0.000000</td>\n",
              "      <td>0.000000</td>\n",
              "      <td>0.000000</td>\n",
              "      <td>0.000000</td>\n",
              "      <td>0.000000</td>\n",
              "      <td>0.000000</td>\n",
              "      <td>0.000000</td>\n",
              "      <td>0.000000</td>\n",
              "      <td>0.000000</td>\n",
              "      <td>0.000000</td>\n",
              "      <td>0.000000</td>\n",
              "      <td>0.000000</td>\n",
              "      <td>0.000000</td>\n",
              "      <td>0.000000</td>\n",
              "      <td>0.000000</td>\n",
              "      <td>0.000000</td>\n",
              "      <td>0.000000</td>\n",
              "      <td>0.00</td>\n",
              "      <td>0.00</td>\n",
              "      <td>0.00</td>\n",
              "      <td>0.00</td>\n",
              "      <td>332</td>\n",
              "      <td>0</td>\n",
              "    </tr>\n",
              "    <tr>\n",
              "      <th>3328</th>\n",
              "      <td>0.000000</td>\n",
              "      <td>0.000000</td>\n",
              "      <td>0.000000</td>\n",
              "      <td>0.000000</td>\n",
              "      <td>0.000000</td>\n",
              "      <td>0.000000</td>\n",
              "      <td>0.000000</td>\n",
              "      <td>0.000000</td>\n",
              "      <td>0.000000</td>\n",
              "      <td>0.000000</td>\n",
              "      <td>0.000000</td>\n",
              "      <td>0.000000</td>\n",
              "      <td>0.000000</td>\n",
              "      <td>0.000000</td>\n",
              "      <td>0.000000</td>\n",
              "      <td>0.000000</td>\n",
              "      <td>0.000000</td>\n",
              "      <td>0.000000</td>\n",
              "      <td>0.000000</td>\n",
              "      <td>0.000000</td>\n",
              "      <td>0.000000</td>\n",
              "      <td>0.000000</td>\n",
              "      <td>0.000000</td>\n",
              "      <td>0.000000</td>\n",
              "      <td>0.000000</td>\n",
              "      <td>0.000000</td>\n",
              "      <td>0.000000</td>\n",
              "      <td>0.000000</td>\n",
              "      <td>0.000000</td>\n",
              "      <td>0.000000</td>\n",
              "      <td>0.000000</td>\n",
              "      <td>0.000000</td>\n",
              "      <td>0.000000</td>\n",
              "      <td>0.000000</td>\n",
              "      <td>0.000000</td>\n",
              "      <td>0.000000</td>\n",
              "      <td>0.000000</td>\n",
              "      <td>0.000000</td>\n",
              "      <td>0.00</td>\n",
              "      <td>0.00</td>\n",
              "      <td>0.00</td>\n",
              "      <td>0.00</td>\n",
              "      <td>332</td>\n",
              "      <td>0</td>\n",
              "    </tr>\n",
              "    <tr>\n",
              "      <th>3329</th>\n",
              "      <td>0.000000</td>\n",
              "      <td>0.000000</td>\n",
              "      <td>0.000000</td>\n",
              "      <td>0.000000</td>\n",
              "      <td>0.000000</td>\n",
              "      <td>0.000000</td>\n",
              "      <td>0.000000</td>\n",
              "      <td>0.000000</td>\n",
              "      <td>0.000000</td>\n",
              "      <td>0.000000</td>\n",
              "      <td>0.000000</td>\n",
              "      <td>0.000000</td>\n",
              "      <td>0.000000</td>\n",
              "      <td>0.000000</td>\n",
              "      <td>0.000000</td>\n",
              "      <td>0.000000</td>\n",
              "      <td>0.000000</td>\n",
              "      <td>0.000000</td>\n",
              "      <td>0.000000</td>\n",
              "      <td>0.000000</td>\n",
              "      <td>0.000000</td>\n",
              "      <td>0.000000</td>\n",
              "      <td>0.000000</td>\n",
              "      <td>0.000000</td>\n",
              "      <td>0.000000</td>\n",
              "      <td>0.000000</td>\n",
              "      <td>0.000000</td>\n",
              "      <td>0.000000</td>\n",
              "      <td>0.000000</td>\n",
              "      <td>0.000000</td>\n",
              "      <td>0.000000</td>\n",
              "      <td>0.000000</td>\n",
              "      <td>0.000000</td>\n",
              "      <td>0.000000</td>\n",
              "      <td>0.000000</td>\n",
              "      <td>0.000000</td>\n",
              "      <td>0.000000</td>\n",
              "      <td>0.000000</td>\n",
              "      <td>0.00</td>\n",
              "      <td>0.00</td>\n",
              "      <td>0.00</td>\n",
              "      <td>0.00</td>\n",
              "      <td>332</td>\n",
              "      <td>0</td>\n",
              "    </tr>\n",
              "  </tbody>\n",
              "</table>\n",
              "<p>3264 rows × 44 columns</p>\n",
              "</div>"
            ],
            "text/plain": [
              "         Band1     Band2     Band3     Band4  ...  Band41  Band42   id  dust\n",
              "0     0.039940  0.024198  0.112813  0.062288  ...   18.53  -97.49    0     0\n",
              "1     0.041253  0.024921  0.113589  0.062666  ...   18.53  -97.49    0     0\n",
              "2     0.113306  0.106017  0.170824  0.128386  ...   18.53  -98.91    0     0\n",
              "3     0.066146  0.052175  0.137252  0.088771  ...   18.53  -98.91    0     0\n",
              "4     0.202981  0.206838  0.241495  0.206545  ...   18.53  -98.91    0     0\n",
              "...        ...       ...       ...       ...  ...     ...     ...  ...   ...\n",
              "3325  0.000000  0.000000  0.000000  0.000000  ...    0.00    0.00  332     0\n",
              "3326  0.000000  0.000000  0.000000  0.000000  ...    0.00    0.00  332     0\n",
              "3327  0.000000  0.000000  0.000000  0.000000  ...    0.00    0.00  332     0\n",
              "3328  0.000000  0.000000  0.000000  0.000000  ...    0.00    0.00  332     0\n",
              "3329  0.000000  0.000000  0.000000  0.000000  ...    0.00    0.00  332     0\n",
              "\n",
              "[3264 rows x 44 columns]"
            ]
          },
          "metadata": {
            "tags": []
          },
          "execution_count": 6
        }
      ]
    },
    {
      "cell_type": "code",
      "metadata": {
        "id": "SQ0VXmgWJgeU"
      },
      "source": [
        "df1=df1.drop(columns='id')"
      ],
      "execution_count": null,
      "outputs": []
    },
    {
      "cell_type": "code",
      "metadata": {
        "id": "ePZlpWW2JpCC",
        "outputId": "d0be037c-7870-4739-ac43-ce312d28cdc6",
        "colab": {
          "base_uri": "https://localhost:8080/",
          "height": 440
        }
      },
      "source": [
        "df1"
      ],
      "execution_count": null,
      "outputs": [
        {
          "output_type": "execute_result",
          "data": {
            "text/html": [
              "<div>\n",
              "<style scoped>\n",
              "    .dataframe tbody tr th:only-of-type {\n",
              "        vertical-align: middle;\n",
              "    }\n",
              "\n",
              "    .dataframe tbody tr th {\n",
              "        vertical-align: top;\n",
              "    }\n",
              "\n",
              "    .dataframe thead th {\n",
              "        text-align: right;\n",
              "    }\n",
              "</style>\n",
              "<table border=\"1\" class=\"dataframe\">\n",
              "  <thead>\n",
              "    <tr style=\"text-align: right;\">\n",
              "      <th></th>\n",
              "      <th>Band1</th>\n",
              "      <th>Band2</th>\n",
              "      <th>Band3</th>\n",
              "      <th>Band4</th>\n",
              "      <th>Band5</th>\n",
              "      <th>Band6</th>\n",
              "      <th>Band7</th>\n",
              "      <th>Band8</th>\n",
              "      <th>Band9</th>\n",
              "      <th>Band10</th>\n",
              "      <th>Band11</th>\n",
              "      <th>Band12</th>\n",
              "      <th>Band13</th>\n",
              "      <th>Band14</th>\n",
              "      <th>Band15</th>\n",
              "      <th>Band16</th>\n",
              "      <th>Band17</th>\n",
              "      <th>Band18</th>\n",
              "      <th>Band19</th>\n",
              "      <th>Band20</th>\n",
              "      <th>Band21</th>\n",
              "      <th>Band22</th>\n",
              "      <th>Band23</th>\n",
              "      <th>Band24</th>\n",
              "      <th>Band25</th>\n",
              "      <th>Band26</th>\n",
              "      <th>Band27</th>\n",
              "      <th>Band28</th>\n",
              "      <th>Band29</th>\n",
              "      <th>Band30</th>\n",
              "      <th>Band31</th>\n",
              "      <th>Band32</th>\n",
              "      <th>Band33</th>\n",
              "      <th>Band34</th>\n",
              "      <th>Band35</th>\n",
              "      <th>Band36</th>\n",
              "      <th>Band37</th>\n",
              "      <th>Band38</th>\n",
              "      <th>Band39</th>\n",
              "      <th>Band40</th>\n",
              "      <th>Band41</th>\n",
              "      <th>Band42</th>\n",
              "      <th>dust</th>\n",
              "    </tr>\n",
              "  </thead>\n",
              "  <tbody>\n",
              "    <tr>\n",
              "      <th>0</th>\n",
              "      <td>0.039940</td>\n",
              "      <td>0.024198</td>\n",
              "      <td>0.112813</td>\n",
              "      <td>0.062288</td>\n",
              "      <td>0.016904</td>\n",
              "      <td>0.015866</td>\n",
              "      <td>0.008598</td>\n",
              "      <td>0.164001</td>\n",
              "      <td>0.134363</td>\n",
              "      <td>0.101141</td>\n",
              "      <td>0.073449</td>\n",
              "      <td>0.066226</td>\n",
              "      <td>0.039268</td>\n",
              "      <td>0.072192</td>\n",
              "      <td>0.038341</td>\n",
              "      <td>0.055545</td>\n",
              "      <td>0.031778</td>\n",
              "      <td>0.024712</td>\n",
              "      <td>0.016862</td>\n",
              "      <td>0.007276</td>\n",
              "      <td>0.010132</td>\n",
              "      <td>0.001882</td>\n",
              "      <td>302.613201</td>\n",
              "      <td>299.901155</td>\n",
              "      <td>300.923546</td>\n",
              "      <td>298.072299</td>\n",
              "      <td>250.464129</td>\n",
              "      <td>274.209974</td>\n",
              "      <td>258.369887</td>\n",
              "      <td>272.300576</td>\n",
              "      <td>295.561107</td>\n",
              "      <td>277.842406</td>\n",
              "      <td>297.093643</td>\n",
              "      <td>295.841632</td>\n",
              "      <td>273.774037</td>\n",
              "      <td>261.506647</td>\n",
              "      <td>251.268528</td>\n",
              "      <td>302.523675</td>\n",
              "      <td>38.67</td>\n",
              "      <td>-131.43</td>\n",
              "      <td>18.53</td>\n",
              "      <td>-97.49</td>\n",
              "      <td>0</td>\n",
              "    </tr>\n",
              "    <tr>\n",
              "      <th>1</th>\n",
              "      <td>0.041253</td>\n",
              "      <td>0.024921</td>\n",
              "      <td>0.113589</td>\n",
              "      <td>0.062666</td>\n",
              "      <td>0.041765</td>\n",
              "      <td>0.014060</td>\n",
              "      <td>0.029500</td>\n",
              "      <td>0.164828</td>\n",
              "      <td>0.135699</td>\n",
              "      <td>0.102146</td>\n",
              "      <td>0.073767</td>\n",
              "      <td>0.066126</td>\n",
              "      <td>0.040383</td>\n",
              "      <td>0.072192</td>\n",
              "      <td>0.039600</td>\n",
              "      <td>0.055545</td>\n",
              "      <td>0.033126</td>\n",
              "      <td>0.025708</td>\n",
              "      <td>0.017723</td>\n",
              "      <td>0.008070</td>\n",
              "      <td>0.010378</td>\n",
              "      <td>0.001763</td>\n",
              "      <td>304.288654</td>\n",
              "      <td>301.527650</td>\n",
              "      <td>301.508194</td>\n",
              "      <td>298.211133</td>\n",
              "      <td>250.432194</td>\n",
              "      <td>274.245047</td>\n",
              "      <td>258.516024</td>\n",
              "      <td>272.038114</td>\n",
              "      <td>295.107952</td>\n",
              "      <td>277.437952</td>\n",
              "      <td>296.712829</td>\n",
              "      <td>295.335702</td>\n",
              "      <td>273.483063</td>\n",
              "      <td>261.402570</td>\n",
              "      <td>251.231991</td>\n",
              "      <td>231.331148</td>\n",
              "      <td>38.67</td>\n",
              "      <td>-131.43</td>\n",
              "      <td>18.53</td>\n",
              "      <td>-97.49</td>\n",
              "      <td>0</td>\n",
              "    </tr>\n",
              "    <tr>\n",
              "      <th>2</th>\n",
              "      <td>0.113306</td>\n",
              "      <td>0.106017</td>\n",
              "      <td>0.170824</td>\n",
              "      <td>0.128386</td>\n",
              "      <td>0.114877</td>\n",
              "      <td>2.274931</td>\n",
              "      <td>0.090621</td>\n",
              "      <td>0.212789</td>\n",
              "      <td>0.189852</td>\n",
              "      <td>0.162370</td>\n",
              "      <td>0.139701</td>\n",
              "      <td>0.250434</td>\n",
              "      <td>0.149357</td>\n",
              "      <td>0.072192</td>\n",
              "      <td>0.153420</td>\n",
              "      <td>0.055545</td>\n",
              "      <td>0.145841</td>\n",
              "      <td>0.126809</td>\n",
              "      <td>0.079016</td>\n",
              "      <td>0.026390</td>\n",
              "      <td>0.043205</td>\n",
              "      <td>0.000739</td>\n",
              "      <td>308.585560</td>\n",
              "      <td>303.982181</td>\n",
              "      <td>303.199401</td>\n",
              "      <td>298.541744</td>\n",
              "      <td>250.271851</td>\n",
              "      <td>273.626132</td>\n",
              "      <td>258.418657</td>\n",
              "      <td>272.095969</td>\n",
              "      <td>294.230386</td>\n",
              "      <td>276.913624</td>\n",
              "      <td>295.577405</td>\n",
              "      <td>294.357367</td>\n",
              "      <td>273.425430</td>\n",
              "      <td>261.304036</td>\n",
              "      <td>251.414556</td>\n",
              "      <td>231.145835</td>\n",
              "      <td>38.70</td>\n",
              "      <td>-131.48</td>\n",
              "      <td>18.53</td>\n",
              "      <td>-98.91</td>\n",
              "      <td>0</td>\n",
              "    </tr>\n",
              "    <tr>\n",
              "      <th>3</th>\n",
              "      <td>0.066146</td>\n",
              "      <td>0.052175</td>\n",
              "      <td>0.137252</td>\n",
              "      <td>0.088771</td>\n",
              "      <td>0.080110</td>\n",
              "      <td>2.274931</td>\n",
              "      <td>0.057925</td>\n",
              "      <td>0.186319</td>\n",
              "      <td>0.158742</td>\n",
              "      <td>0.127388</td>\n",
              "      <td>0.101754</td>\n",
              "      <td>0.095026</td>\n",
              "      <td>0.069519</td>\n",
              "      <td>0.072192</td>\n",
              "      <td>0.070431</td>\n",
              "      <td>0.055545</td>\n",
              "      <td>0.064181</td>\n",
              "      <td>0.056027</td>\n",
              "      <td>0.037797</td>\n",
              "      <td>0.014618</td>\n",
              "      <td>0.022156</td>\n",
              "      <td>0.002215</td>\n",
              "      <td>306.468522</td>\n",
              "      <td>303.529720</td>\n",
              "      <td>302.540982</td>\n",
              "      <td>298.632940</td>\n",
              "      <td>250.651298</td>\n",
              "      <td>273.821291</td>\n",
              "      <td>258.147163</td>\n",
              "      <td>272.050392</td>\n",
              "      <td>294.473111</td>\n",
              "      <td>277.136477</td>\n",
              "      <td>296.196777</td>\n",
              "      <td>294.964776</td>\n",
              "      <td>273.470258</td>\n",
              "      <td>261.385684</td>\n",
              "      <td>251.420169</td>\n",
              "      <td>231.418924</td>\n",
              "      <td>38.70</td>\n",
              "      <td>-131.48</td>\n",
              "      <td>18.53</td>\n",
              "      <td>-98.91</td>\n",
              "      <td>0</td>\n",
              "    </tr>\n",
              "    <tr>\n",
              "      <th>4</th>\n",
              "      <td>0.202981</td>\n",
              "      <td>0.206838</td>\n",
              "      <td>0.241495</td>\n",
              "      <td>0.206545</td>\n",
              "      <td>0.246561</td>\n",
              "      <td>0.255864</td>\n",
              "      <td>0.181610</td>\n",
              "      <td>0.273125</td>\n",
              "      <td>0.258839</td>\n",
              "      <td>0.402292</td>\n",
              "      <td>0.319484</td>\n",
              "      <td>0.250434</td>\n",
              "      <td>0.149357</td>\n",
              "      <td>0.072192</td>\n",
              "      <td>0.153420</td>\n",
              "      <td>0.055545</td>\n",
              "      <td>0.145841</td>\n",
              "      <td>0.126809</td>\n",
              "      <td>0.157486</td>\n",
              "      <td>0.053276</td>\n",
              "      <td>0.088353</td>\n",
              "      <td>-0.000999</td>\n",
              "      <td>312.807886</td>\n",
              "      <td>305.300745</td>\n",
              "      <td>304.639770</td>\n",
              "      <td>298.705699</td>\n",
              "      <td>249.626409</td>\n",
              "      <td>272.607350</td>\n",
              "      <td>258.603122</td>\n",
              "      <td>272.052145</td>\n",
              "      <td>292.213040</td>\n",
              "      <td>275.388304</td>\n",
              "      <td>293.557355</td>\n",
              "      <td>292.582988</td>\n",
              "      <td>272.841260</td>\n",
              "      <td>260.945815</td>\n",
              "      <td>251.192631</td>\n",
              "      <td>231.468706</td>\n",
              "      <td>38.70</td>\n",
              "      <td>-131.48</td>\n",
              "      <td>18.53</td>\n",
              "      <td>-98.91</td>\n",
              "      <td>0</td>\n",
              "    </tr>\n",
              "    <tr>\n",
              "      <th>...</th>\n",
              "      <td>...</td>\n",
              "      <td>...</td>\n",
              "      <td>...</td>\n",
              "      <td>...</td>\n",
              "      <td>...</td>\n",
              "      <td>...</td>\n",
              "      <td>...</td>\n",
              "      <td>...</td>\n",
              "      <td>...</td>\n",
              "      <td>...</td>\n",
              "      <td>...</td>\n",
              "      <td>...</td>\n",
              "      <td>...</td>\n",
              "      <td>...</td>\n",
              "      <td>...</td>\n",
              "      <td>...</td>\n",
              "      <td>...</td>\n",
              "      <td>...</td>\n",
              "      <td>...</td>\n",
              "      <td>...</td>\n",
              "      <td>...</td>\n",
              "      <td>...</td>\n",
              "      <td>...</td>\n",
              "      <td>...</td>\n",
              "      <td>...</td>\n",
              "      <td>...</td>\n",
              "      <td>...</td>\n",
              "      <td>...</td>\n",
              "      <td>...</td>\n",
              "      <td>...</td>\n",
              "      <td>...</td>\n",
              "      <td>...</td>\n",
              "      <td>...</td>\n",
              "      <td>...</td>\n",
              "      <td>...</td>\n",
              "      <td>...</td>\n",
              "      <td>...</td>\n",
              "      <td>...</td>\n",
              "      <td>...</td>\n",
              "      <td>...</td>\n",
              "      <td>...</td>\n",
              "      <td>...</td>\n",
              "      <td>...</td>\n",
              "    </tr>\n",
              "    <tr>\n",
              "      <th>3325</th>\n",
              "      <td>0.000000</td>\n",
              "      <td>0.000000</td>\n",
              "      <td>0.000000</td>\n",
              "      <td>0.000000</td>\n",
              "      <td>0.000000</td>\n",
              "      <td>0.000000</td>\n",
              "      <td>0.000000</td>\n",
              "      <td>0.000000</td>\n",
              "      <td>0.000000</td>\n",
              "      <td>0.000000</td>\n",
              "      <td>0.000000</td>\n",
              "      <td>0.000000</td>\n",
              "      <td>0.000000</td>\n",
              "      <td>0.000000</td>\n",
              "      <td>0.000000</td>\n",
              "      <td>0.000000</td>\n",
              "      <td>0.000000</td>\n",
              "      <td>0.000000</td>\n",
              "      <td>0.000000</td>\n",
              "      <td>0.000000</td>\n",
              "      <td>0.000000</td>\n",
              "      <td>0.000000</td>\n",
              "      <td>0.000000</td>\n",
              "      <td>0.000000</td>\n",
              "      <td>0.000000</td>\n",
              "      <td>0.000000</td>\n",
              "      <td>0.000000</td>\n",
              "      <td>0.000000</td>\n",
              "      <td>0.000000</td>\n",
              "      <td>0.000000</td>\n",
              "      <td>0.000000</td>\n",
              "      <td>0.000000</td>\n",
              "      <td>0.000000</td>\n",
              "      <td>0.000000</td>\n",
              "      <td>0.000000</td>\n",
              "      <td>0.000000</td>\n",
              "      <td>0.000000</td>\n",
              "      <td>0.000000</td>\n",
              "      <td>0.00</td>\n",
              "      <td>0.00</td>\n",
              "      <td>0.00</td>\n",
              "      <td>0.00</td>\n",
              "      <td>0</td>\n",
              "    </tr>\n",
              "    <tr>\n",
              "      <th>3326</th>\n",
              "      <td>0.000000</td>\n",
              "      <td>0.000000</td>\n",
              "      <td>0.000000</td>\n",
              "      <td>0.000000</td>\n",
              "      <td>0.000000</td>\n",
              "      <td>0.000000</td>\n",
              "      <td>0.000000</td>\n",
              "      <td>0.000000</td>\n",
              "      <td>0.000000</td>\n",
              "      <td>0.000000</td>\n",
              "      <td>0.000000</td>\n",
              "      <td>0.000000</td>\n",
              "      <td>0.000000</td>\n",
              "      <td>0.000000</td>\n",
              "      <td>0.000000</td>\n",
              "      <td>0.000000</td>\n",
              "      <td>0.000000</td>\n",
              "      <td>0.000000</td>\n",
              "      <td>0.000000</td>\n",
              "      <td>0.000000</td>\n",
              "      <td>0.000000</td>\n",
              "      <td>0.000000</td>\n",
              "      <td>0.000000</td>\n",
              "      <td>0.000000</td>\n",
              "      <td>0.000000</td>\n",
              "      <td>0.000000</td>\n",
              "      <td>0.000000</td>\n",
              "      <td>0.000000</td>\n",
              "      <td>0.000000</td>\n",
              "      <td>0.000000</td>\n",
              "      <td>0.000000</td>\n",
              "      <td>0.000000</td>\n",
              "      <td>0.000000</td>\n",
              "      <td>0.000000</td>\n",
              "      <td>0.000000</td>\n",
              "      <td>0.000000</td>\n",
              "      <td>0.000000</td>\n",
              "      <td>0.000000</td>\n",
              "      <td>0.00</td>\n",
              "      <td>0.00</td>\n",
              "      <td>0.00</td>\n",
              "      <td>0.00</td>\n",
              "      <td>0</td>\n",
              "    </tr>\n",
              "    <tr>\n",
              "      <th>3327</th>\n",
              "      <td>0.000000</td>\n",
              "      <td>0.000000</td>\n",
              "      <td>0.000000</td>\n",
              "      <td>0.000000</td>\n",
              "      <td>0.000000</td>\n",
              "      <td>0.000000</td>\n",
              "      <td>0.000000</td>\n",
              "      <td>0.000000</td>\n",
              "      <td>0.000000</td>\n",
              "      <td>0.000000</td>\n",
              "      <td>0.000000</td>\n",
              "      <td>0.000000</td>\n",
              "      <td>0.000000</td>\n",
              "      <td>0.000000</td>\n",
              "      <td>0.000000</td>\n",
              "      <td>0.000000</td>\n",
              "      <td>0.000000</td>\n",
              "      <td>0.000000</td>\n",
              "      <td>0.000000</td>\n",
              "      <td>0.000000</td>\n",
              "      <td>0.000000</td>\n",
              "      <td>0.000000</td>\n",
              "      <td>0.000000</td>\n",
              "      <td>0.000000</td>\n",
              "      <td>0.000000</td>\n",
              "      <td>0.000000</td>\n",
              "      <td>0.000000</td>\n",
              "      <td>0.000000</td>\n",
              "      <td>0.000000</td>\n",
              "      <td>0.000000</td>\n",
              "      <td>0.000000</td>\n",
              "      <td>0.000000</td>\n",
              "      <td>0.000000</td>\n",
              "      <td>0.000000</td>\n",
              "      <td>0.000000</td>\n",
              "      <td>0.000000</td>\n",
              "      <td>0.000000</td>\n",
              "      <td>0.000000</td>\n",
              "      <td>0.00</td>\n",
              "      <td>0.00</td>\n",
              "      <td>0.00</td>\n",
              "      <td>0.00</td>\n",
              "      <td>0</td>\n",
              "    </tr>\n",
              "    <tr>\n",
              "      <th>3328</th>\n",
              "      <td>0.000000</td>\n",
              "      <td>0.000000</td>\n",
              "      <td>0.000000</td>\n",
              "      <td>0.000000</td>\n",
              "      <td>0.000000</td>\n",
              "      <td>0.000000</td>\n",
              "      <td>0.000000</td>\n",
              "      <td>0.000000</td>\n",
              "      <td>0.000000</td>\n",
              "      <td>0.000000</td>\n",
              "      <td>0.000000</td>\n",
              "      <td>0.000000</td>\n",
              "      <td>0.000000</td>\n",
              "      <td>0.000000</td>\n",
              "      <td>0.000000</td>\n",
              "      <td>0.000000</td>\n",
              "      <td>0.000000</td>\n",
              "      <td>0.000000</td>\n",
              "      <td>0.000000</td>\n",
              "      <td>0.000000</td>\n",
              "      <td>0.000000</td>\n",
              "      <td>0.000000</td>\n",
              "      <td>0.000000</td>\n",
              "      <td>0.000000</td>\n",
              "      <td>0.000000</td>\n",
              "      <td>0.000000</td>\n",
              "      <td>0.000000</td>\n",
              "      <td>0.000000</td>\n",
              "      <td>0.000000</td>\n",
              "      <td>0.000000</td>\n",
              "      <td>0.000000</td>\n",
              "      <td>0.000000</td>\n",
              "      <td>0.000000</td>\n",
              "      <td>0.000000</td>\n",
              "      <td>0.000000</td>\n",
              "      <td>0.000000</td>\n",
              "      <td>0.000000</td>\n",
              "      <td>0.000000</td>\n",
              "      <td>0.00</td>\n",
              "      <td>0.00</td>\n",
              "      <td>0.00</td>\n",
              "      <td>0.00</td>\n",
              "      <td>0</td>\n",
              "    </tr>\n",
              "    <tr>\n",
              "      <th>3329</th>\n",
              "      <td>0.000000</td>\n",
              "      <td>0.000000</td>\n",
              "      <td>0.000000</td>\n",
              "      <td>0.000000</td>\n",
              "      <td>0.000000</td>\n",
              "      <td>0.000000</td>\n",
              "      <td>0.000000</td>\n",
              "      <td>0.000000</td>\n",
              "      <td>0.000000</td>\n",
              "      <td>0.000000</td>\n",
              "      <td>0.000000</td>\n",
              "      <td>0.000000</td>\n",
              "      <td>0.000000</td>\n",
              "      <td>0.000000</td>\n",
              "      <td>0.000000</td>\n",
              "      <td>0.000000</td>\n",
              "      <td>0.000000</td>\n",
              "      <td>0.000000</td>\n",
              "      <td>0.000000</td>\n",
              "      <td>0.000000</td>\n",
              "      <td>0.000000</td>\n",
              "      <td>0.000000</td>\n",
              "      <td>0.000000</td>\n",
              "      <td>0.000000</td>\n",
              "      <td>0.000000</td>\n",
              "      <td>0.000000</td>\n",
              "      <td>0.000000</td>\n",
              "      <td>0.000000</td>\n",
              "      <td>0.000000</td>\n",
              "      <td>0.000000</td>\n",
              "      <td>0.000000</td>\n",
              "      <td>0.000000</td>\n",
              "      <td>0.000000</td>\n",
              "      <td>0.000000</td>\n",
              "      <td>0.000000</td>\n",
              "      <td>0.000000</td>\n",
              "      <td>0.000000</td>\n",
              "      <td>0.000000</td>\n",
              "      <td>0.00</td>\n",
              "      <td>0.00</td>\n",
              "      <td>0.00</td>\n",
              "      <td>0.00</td>\n",
              "      <td>0</td>\n",
              "    </tr>\n",
              "  </tbody>\n",
              "</table>\n",
              "<p>3264 rows × 43 columns</p>\n",
              "</div>"
            ],
            "text/plain": [
              "         Band1     Band2     Band3     Band4  ...  Band40  Band41  Band42  dust\n",
              "0     0.039940  0.024198  0.112813  0.062288  ... -131.43   18.53  -97.49     0\n",
              "1     0.041253  0.024921  0.113589  0.062666  ... -131.43   18.53  -97.49     0\n",
              "2     0.113306  0.106017  0.170824  0.128386  ... -131.48   18.53  -98.91     0\n",
              "3     0.066146  0.052175  0.137252  0.088771  ... -131.48   18.53  -98.91     0\n",
              "4     0.202981  0.206838  0.241495  0.206545  ... -131.48   18.53  -98.91     0\n",
              "...        ...       ...       ...       ...  ...     ...     ...     ...   ...\n",
              "3325  0.000000  0.000000  0.000000  0.000000  ...    0.00    0.00    0.00     0\n",
              "3326  0.000000  0.000000  0.000000  0.000000  ...    0.00    0.00    0.00     0\n",
              "3327  0.000000  0.000000  0.000000  0.000000  ...    0.00    0.00    0.00     0\n",
              "3328  0.000000  0.000000  0.000000  0.000000  ...    0.00    0.00    0.00     0\n",
              "3329  0.000000  0.000000  0.000000  0.000000  ...    0.00    0.00    0.00     0\n",
              "\n",
              "[3264 rows x 43 columns]"
            ]
          },
          "metadata": {
            "tags": []
          },
          "execution_count": 8
        }
      ]
    },
    {
      "cell_type": "code",
      "metadata": {
        "id": "-6RdwT02MK3A"
      },
      "source": [
        "y=df1.loc[:,'dust']"
      ],
      "execution_count": null,
      "outputs": []
    },
    {
      "cell_type": "code",
      "metadata": {
        "id": "Pud7N49qNFVf",
        "outputId": "f6874031-f69c-40c4-c57e-ce4e138e2320",
        "colab": {
          "base_uri": "https://localhost:8080/",
          "height": 224
        }
      },
      "source": [
        "y"
      ],
      "execution_count": null,
      "outputs": [
        {
          "output_type": "execute_result",
          "data": {
            "text/plain": [
              "0       0\n",
              "1       0\n",
              "2       0\n",
              "3       0\n",
              "4       0\n",
              "       ..\n",
              "3325    0\n",
              "3326    0\n",
              "3327    0\n",
              "3328    0\n",
              "3329    0\n",
              "Name: dust, Length: 3264, dtype: int64"
            ]
          },
          "metadata": {
            "tags": []
          },
          "execution_count": 10
        }
      ]
    },
    {
      "cell_type": "code",
      "metadata": {
        "id": "tD70olgpNJWT"
      },
      "source": [
        "x=df1.loc[:,'Band1':'Band42']"
      ],
      "execution_count": null,
      "outputs": []
    },
    {
      "cell_type": "code",
      "metadata": {
        "id": "J0quYzCGNTrf",
        "outputId": "750a2223-6091-4691-f6bc-9be0411fb4e1",
        "colab": {
          "base_uri": "https://localhost:8080/",
          "height": 440
        }
      },
      "source": [
        "x"
      ],
      "execution_count": null,
      "outputs": [
        {
          "output_type": "execute_result",
          "data": {
            "text/html": [
              "<div>\n",
              "<style scoped>\n",
              "    .dataframe tbody tr th:only-of-type {\n",
              "        vertical-align: middle;\n",
              "    }\n",
              "\n",
              "    .dataframe tbody tr th {\n",
              "        vertical-align: top;\n",
              "    }\n",
              "\n",
              "    .dataframe thead th {\n",
              "        text-align: right;\n",
              "    }\n",
              "</style>\n",
              "<table border=\"1\" class=\"dataframe\">\n",
              "  <thead>\n",
              "    <tr style=\"text-align: right;\">\n",
              "      <th></th>\n",
              "      <th>Band1</th>\n",
              "      <th>Band2</th>\n",
              "      <th>Band3</th>\n",
              "      <th>Band4</th>\n",
              "      <th>Band5</th>\n",
              "      <th>Band6</th>\n",
              "      <th>Band7</th>\n",
              "      <th>Band8</th>\n",
              "      <th>Band9</th>\n",
              "      <th>Band10</th>\n",
              "      <th>Band11</th>\n",
              "      <th>Band12</th>\n",
              "      <th>Band13</th>\n",
              "      <th>Band14</th>\n",
              "      <th>Band15</th>\n",
              "      <th>Band16</th>\n",
              "      <th>Band17</th>\n",
              "      <th>Band18</th>\n",
              "      <th>Band19</th>\n",
              "      <th>Band20</th>\n",
              "      <th>Band21</th>\n",
              "      <th>Band22</th>\n",
              "      <th>Band23</th>\n",
              "      <th>Band24</th>\n",
              "      <th>Band25</th>\n",
              "      <th>Band26</th>\n",
              "      <th>Band27</th>\n",
              "      <th>Band28</th>\n",
              "      <th>Band29</th>\n",
              "      <th>Band30</th>\n",
              "      <th>Band31</th>\n",
              "      <th>Band32</th>\n",
              "      <th>Band33</th>\n",
              "      <th>Band34</th>\n",
              "      <th>Band35</th>\n",
              "      <th>Band36</th>\n",
              "      <th>Band37</th>\n",
              "      <th>Band38</th>\n",
              "      <th>Band39</th>\n",
              "      <th>Band40</th>\n",
              "      <th>Band41</th>\n",
              "      <th>Band42</th>\n",
              "    </tr>\n",
              "  </thead>\n",
              "  <tbody>\n",
              "    <tr>\n",
              "      <th>0</th>\n",
              "      <td>0.039940</td>\n",
              "      <td>0.024198</td>\n",
              "      <td>0.112813</td>\n",
              "      <td>0.062288</td>\n",
              "      <td>0.016904</td>\n",
              "      <td>0.015866</td>\n",
              "      <td>0.008598</td>\n",
              "      <td>0.164001</td>\n",
              "      <td>0.134363</td>\n",
              "      <td>0.101141</td>\n",
              "      <td>0.073449</td>\n",
              "      <td>0.066226</td>\n",
              "      <td>0.039268</td>\n",
              "      <td>0.072192</td>\n",
              "      <td>0.038341</td>\n",
              "      <td>0.055545</td>\n",
              "      <td>0.031778</td>\n",
              "      <td>0.024712</td>\n",
              "      <td>0.016862</td>\n",
              "      <td>0.007276</td>\n",
              "      <td>0.010132</td>\n",
              "      <td>0.001882</td>\n",
              "      <td>302.613201</td>\n",
              "      <td>299.901155</td>\n",
              "      <td>300.923546</td>\n",
              "      <td>298.072299</td>\n",
              "      <td>250.464129</td>\n",
              "      <td>274.209974</td>\n",
              "      <td>258.369887</td>\n",
              "      <td>272.300576</td>\n",
              "      <td>295.561107</td>\n",
              "      <td>277.842406</td>\n",
              "      <td>297.093643</td>\n",
              "      <td>295.841632</td>\n",
              "      <td>273.774037</td>\n",
              "      <td>261.506647</td>\n",
              "      <td>251.268528</td>\n",
              "      <td>302.523675</td>\n",
              "      <td>38.67</td>\n",
              "      <td>-131.43</td>\n",
              "      <td>18.53</td>\n",
              "      <td>-97.49</td>\n",
              "    </tr>\n",
              "    <tr>\n",
              "      <th>1</th>\n",
              "      <td>0.041253</td>\n",
              "      <td>0.024921</td>\n",
              "      <td>0.113589</td>\n",
              "      <td>0.062666</td>\n",
              "      <td>0.041765</td>\n",
              "      <td>0.014060</td>\n",
              "      <td>0.029500</td>\n",
              "      <td>0.164828</td>\n",
              "      <td>0.135699</td>\n",
              "      <td>0.102146</td>\n",
              "      <td>0.073767</td>\n",
              "      <td>0.066126</td>\n",
              "      <td>0.040383</td>\n",
              "      <td>0.072192</td>\n",
              "      <td>0.039600</td>\n",
              "      <td>0.055545</td>\n",
              "      <td>0.033126</td>\n",
              "      <td>0.025708</td>\n",
              "      <td>0.017723</td>\n",
              "      <td>0.008070</td>\n",
              "      <td>0.010378</td>\n",
              "      <td>0.001763</td>\n",
              "      <td>304.288654</td>\n",
              "      <td>301.527650</td>\n",
              "      <td>301.508194</td>\n",
              "      <td>298.211133</td>\n",
              "      <td>250.432194</td>\n",
              "      <td>274.245047</td>\n",
              "      <td>258.516024</td>\n",
              "      <td>272.038114</td>\n",
              "      <td>295.107952</td>\n",
              "      <td>277.437952</td>\n",
              "      <td>296.712829</td>\n",
              "      <td>295.335702</td>\n",
              "      <td>273.483063</td>\n",
              "      <td>261.402570</td>\n",
              "      <td>251.231991</td>\n",
              "      <td>231.331148</td>\n",
              "      <td>38.67</td>\n",
              "      <td>-131.43</td>\n",
              "      <td>18.53</td>\n",
              "      <td>-97.49</td>\n",
              "    </tr>\n",
              "    <tr>\n",
              "      <th>2</th>\n",
              "      <td>0.113306</td>\n",
              "      <td>0.106017</td>\n",
              "      <td>0.170824</td>\n",
              "      <td>0.128386</td>\n",
              "      <td>0.114877</td>\n",
              "      <td>2.274931</td>\n",
              "      <td>0.090621</td>\n",
              "      <td>0.212789</td>\n",
              "      <td>0.189852</td>\n",
              "      <td>0.162370</td>\n",
              "      <td>0.139701</td>\n",
              "      <td>0.250434</td>\n",
              "      <td>0.149357</td>\n",
              "      <td>0.072192</td>\n",
              "      <td>0.153420</td>\n",
              "      <td>0.055545</td>\n",
              "      <td>0.145841</td>\n",
              "      <td>0.126809</td>\n",
              "      <td>0.079016</td>\n",
              "      <td>0.026390</td>\n",
              "      <td>0.043205</td>\n",
              "      <td>0.000739</td>\n",
              "      <td>308.585560</td>\n",
              "      <td>303.982181</td>\n",
              "      <td>303.199401</td>\n",
              "      <td>298.541744</td>\n",
              "      <td>250.271851</td>\n",
              "      <td>273.626132</td>\n",
              "      <td>258.418657</td>\n",
              "      <td>272.095969</td>\n",
              "      <td>294.230386</td>\n",
              "      <td>276.913624</td>\n",
              "      <td>295.577405</td>\n",
              "      <td>294.357367</td>\n",
              "      <td>273.425430</td>\n",
              "      <td>261.304036</td>\n",
              "      <td>251.414556</td>\n",
              "      <td>231.145835</td>\n",
              "      <td>38.70</td>\n",
              "      <td>-131.48</td>\n",
              "      <td>18.53</td>\n",
              "      <td>-98.91</td>\n",
              "    </tr>\n",
              "    <tr>\n",
              "      <th>3</th>\n",
              "      <td>0.066146</td>\n",
              "      <td>0.052175</td>\n",
              "      <td>0.137252</td>\n",
              "      <td>0.088771</td>\n",
              "      <td>0.080110</td>\n",
              "      <td>2.274931</td>\n",
              "      <td>0.057925</td>\n",
              "      <td>0.186319</td>\n",
              "      <td>0.158742</td>\n",
              "      <td>0.127388</td>\n",
              "      <td>0.101754</td>\n",
              "      <td>0.095026</td>\n",
              "      <td>0.069519</td>\n",
              "      <td>0.072192</td>\n",
              "      <td>0.070431</td>\n",
              "      <td>0.055545</td>\n",
              "      <td>0.064181</td>\n",
              "      <td>0.056027</td>\n",
              "      <td>0.037797</td>\n",
              "      <td>0.014618</td>\n",
              "      <td>0.022156</td>\n",
              "      <td>0.002215</td>\n",
              "      <td>306.468522</td>\n",
              "      <td>303.529720</td>\n",
              "      <td>302.540982</td>\n",
              "      <td>298.632940</td>\n",
              "      <td>250.651298</td>\n",
              "      <td>273.821291</td>\n",
              "      <td>258.147163</td>\n",
              "      <td>272.050392</td>\n",
              "      <td>294.473111</td>\n",
              "      <td>277.136477</td>\n",
              "      <td>296.196777</td>\n",
              "      <td>294.964776</td>\n",
              "      <td>273.470258</td>\n",
              "      <td>261.385684</td>\n",
              "      <td>251.420169</td>\n",
              "      <td>231.418924</td>\n",
              "      <td>38.70</td>\n",
              "      <td>-131.48</td>\n",
              "      <td>18.53</td>\n",
              "      <td>-98.91</td>\n",
              "    </tr>\n",
              "    <tr>\n",
              "      <th>4</th>\n",
              "      <td>0.202981</td>\n",
              "      <td>0.206838</td>\n",
              "      <td>0.241495</td>\n",
              "      <td>0.206545</td>\n",
              "      <td>0.246561</td>\n",
              "      <td>0.255864</td>\n",
              "      <td>0.181610</td>\n",
              "      <td>0.273125</td>\n",
              "      <td>0.258839</td>\n",
              "      <td>0.402292</td>\n",
              "      <td>0.319484</td>\n",
              "      <td>0.250434</td>\n",
              "      <td>0.149357</td>\n",
              "      <td>0.072192</td>\n",
              "      <td>0.153420</td>\n",
              "      <td>0.055545</td>\n",
              "      <td>0.145841</td>\n",
              "      <td>0.126809</td>\n",
              "      <td>0.157486</td>\n",
              "      <td>0.053276</td>\n",
              "      <td>0.088353</td>\n",
              "      <td>-0.000999</td>\n",
              "      <td>312.807886</td>\n",
              "      <td>305.300745</td>\n",
              "      <td>304.639770</td>\n",
              "      <td>298.705699</td>\n",
              "      <td>249.626409</td>\n",
              "      <td>272.607350</td>\n",
              "      <td>258.603122</td>\n",
              "      <td>272.052145</td>\n",
              "      <td>292.213040</td>\n",
              "      <td>275.388304</td>\n",
              "      <td>293.557355</td>\n",
              "      <td>292.582988</td>\n",
              "      <td>272.841260</td>\n",
              "      <td>260.945815</td>\n",
              "      <td>251.192631</td>\n",
              "      <td>231.468706</td>\n",
              "      <td>38.70</td>\n",
              "      <td>-131.48</td>\n",
              "      <td>18.53</td>\n",
              "      <td>-98.91</td>\n",
              "    </tr>\n",
              "    <tr>\n",
              "      <th>...</th>\n",
              "      <td>...</td>\n",
              "      <td>...</td>\n",
              "      <td>...</td>\n",
              "      <td>...</td>\n",
              "      <td>...</td>\n",
              "      <td>...</td>\n",
              "      <td>...</td>\n",
              "      <td>...</td>\n",
              "      <td>...</td>\n",
              "      <td>...</td>\n",
              "      <td>...</td>\n",
              "      <td>...</td>\n",
              "      <td>...</td>\n",
              "      <td>...</td>\n",
              "      <td>...</td>\n",
              "      <td>...</td>\n",
              "      <td>...</td>\n",
              "      <td>...</td>\n",
              "      <td>...</td>\n",
              "      <td>...</td>\n",
              "      <td>...</td>\n",
              "      <td>...</td>\n",
              "      <td>...</td>\n",
              "      <td>...</td>\n",
              "      <td>...</td>\n",
              "      <td>...</td>\n",
              "      <td>...</td>\n",
              "      <td>...</td>\n",
              "      <td>...</td>\n",
              "      <td>...</td>\n",
              "      <td>...</td>\n",
              "      <td>...</td>\n",
              "      <td>...</td>\n",
              "      <td>...</td>\n",
              "      <td>...</td>\n",
              "      <td>...</td>\n",
              "      <td>...</td>\n",
              "      <td>...</td>\n",
              "      <td>...</td>\n",
              "      <td>...</td>\n",
              "      <td>...</td>\n",
              "      <td>...</td>\n",
              "    </tr>\n",
              "    <tr>\n",
              "      <th>3325</th>\n",
              "      <td>0.000000</td>\n",
              "      <td>0.000000</td>\n",
              "      <td>0.000000</td>\n",
              "      <td>0.000000</td>\n",
              "      <td>0.000000</td>\n",
              "      <td>0.000000</td>\n",
              "      <td>0.000000</td>\n",
              "      <td>0.000000</td>\n",
              "      <td>0.000000</td>\n",
              "      <td>0.000000</td>\n",
              "      <td>0.000000</td>\n",
              "      <td>0.000000</td>\n",
              "      <td>0.000000</td>\n",
              "      <td>0.000000</td>\n",
              "      <td>0.000000</td>\n",
              "      <td>0.000000</td>\n",
              "      <td>0.000000</td>\n",
              "      <td>0.000000</td>\n",
              "      <td>0.000000</td>\n",
              "      <td>0.000000</td>\n",
              "      <td>0.000000</td>\n",
              "      <td>0.000000</td>\n",
              "      <td>0.000000</td>\n",
              "      <td>0.000000</td>\n",
              "      <td>0.000000</td>\n",
              "      <td>0.000000</td>\n",
              "      <td>0.000000</td>\n",
              "      <td>0.000000</td>\n",
              "      <td>0.000000</td>\n",
              "      <td>0.000000</td>\n",
              "      <td>0.000000</td>\n",
              "      <td>0.000000</td>\n",
              "      <td>0.000000</td>\n",
              "      <td>0.000000</td>\n",
              "      <td>0.000000</td>\n",
              "      <td>0.000000</td>\n",
              "      <td>0.000000</td>\n",
              "      <td>0.000000</td>\n",
              "      <td>0.00</td>\n",
              "      <td>0.00</td>\n",
              "      <td>0.00</td>\n",
              "      <td>0.00</td>\n",
              "    </tr>\n",
              "    <tr>\n",
              "      <th>3326</th>\n",
              "      <td>0.000000</td>\n",
              "      <td>0.000000</td>\n",
              "      <td>0.000000</td>\n",
              "      <td>0.000000</td>\n",
              "      <td>0.000000</td>\n",
              "      <td>0.000000</td>\n",
              "      <td>0.000000</td>\n",
              "      <td>0.000000</td>\n",
              "      <td>0.000000</td>\n",
              "      <td>0.000000</td>\n",
              "      <td>0.000000</td>\n",
              "      <td>0.000000</td>\n",
              "      <td>0.000000</td>\n",
              "      <td>0.000000</td>\n",
              "      <td>0.000000</td>\n",
              "      <td>0.000000</td>\n",
              "      <td>0.000000</td>\n",
              "      <td>0.000000</td>\n",
              "      <td>0.000000</td>\n",
              "      <td>0.000000</td>\n",
              "      <td>0.000000</td>\n",
              "      <td>0.000000</td>\n",
              "      <td>0.000000</td>\n",
              "      <td>0.000000</td>\n",
              "      <td>0.000000</td>\n",
              "      <td>0.000000</td>\n",
              "      <td>0.000000</td>\n",
              "      <td>0.000000</td>\n",
              "      <td>0.000000</td>\n",
              "      <td>0.000000</td>\n",
              "      <td>0.000000</td>\n",
              "      <td>0.000000</td>\n",
              "      <td>0.000000</td>\n",
              "      <td>0.000000</td>\n",
              "      <td>0.000000</td>\n",
              "      <td>0.000000</td>\n",
              "      <td>0.000000</td>\n",
              "      <td>0.000000</td>\n",
              "      <td>0.00</td>\n",
              "      <td>0.00</td>\n",
              "      <td>0.00</td>\n",
              "      <td>0.00</td>\n",
              "    </tr>\n",
              "    <tr>\n",
              "      <th>3327</th>\n",
              "      <td>0.000000</td>\n",
              "      <td>0.000000</td>\n",
              "      <td>0.000000</td>\n",
              "      <td>0.000000</td>\n",
              "      <td>0.000000</td>\n",
              "      <td>0.000000</td>\n",
              "      <td>0.000000</td>\n",
              "      <td>0.000000</td>\n",
              "      <td>0.000000</td>\n",
              "      <td>0.000000</td>\n",
              "      <td>0.000000</td>\n",
              "      <td>0.000000</td>\n",
              "      <td>0.000000</td>\n",
              "      <td>0.000000</td>\n",
              "      <td>0.000000</td>\n",
              "      <td>0.000000</td>\n",
              "      <td>0.000000</td>\n",
              "      <td>0.000000</td>\n",
              "      <td>0.000000</td>\n",
              "      <td>0.000000</td>\n",
              "      <td>0.000000</td>\n",
              "      <td>0.000000</td>\n",
              "      <td>0.000000</td>\n",
              "      <td>0.000000</td>\n",
              "      <td>0.000000</td>\n",
              "      <td>0.000000</td>\n",
              "      <td>0.000000</td>\n",
              "      <td>0.000000</td>\n",
              "      <td>0.000000</td>\n",
              "      <td>0.000000</td>\n",
              "      <td>0.000000</td>\n",
              "      <td>0.000000</td>\n",
              "      <td>0.000000</td>\n",
              "      <td>0.000000</td>\n",
              "      <td>0.000000</td>\n",
              "      <td>0.000000</td>\n",
              "      <td>0.000000</td>\n",
              "      <td>0.000000</td>\n",
              "      <td>0.00</td>\n",
              "      <td>0.00</td>\n",
              "      <td>0.00</td>\n",
              "      <td>0.00</td>\n",
              "    </tr>\n",
              "    <tr>\n",
              "      <th>3328</th>\n",
              "      <td>0.000000</td>\n",
              "      <td>0.000000</td>\n",
              "      <td>0.000000</td>\n",
              "      <td>0.000000</td>\n",
              "      <td>0.000000</td>\n",
              "      <td>0.000000</td>\n",
              "      <td>0.000000</td>\n",
              "      <td>0.000000</td>\n",
              "      <td>0.000000</td>\n",
              "      <td>0.000000</td>\n",
              "      <td>0.000000</td>\n",
              "      <td>0.000000</td>\n",
              "      <td>0.000000</td>\n",
              "      <td>0.000000</td>\n",
              "      <td>0.000000</td>\n",
              "      <td>0.000000</td>\n",
              "      <td>0.000000</td>\n",
              "      <td>0.000000</td>\n",
              "      <td>0.000000</td>\n",
              "      <td>0.000000</td>\n",
              "      <td>0.000000</td>\n",
              "      <td>0.000000</td>\n",
              "      <td>0.000000</td>\n",
              "      <td>0.000000</td>\n",
              "      <td>0.000000</td>\n",
              "      <td>0.000000</td>\n",
              "      <td>0.000000</td>\n",
              "      <td>0.000000</td>\n",
              "      <td>0.000000</td>\n",
              "      <td>0.000000</td>\n",
              "      <td>0.000000</td>\n",
              "      <td>0.000000</td>\n",
              "      <td>0.000000</td>\n",
              "      <td>0.000000</td>\n",
              "      <td>0.000000</td>\n",
              "      <td>0.000000</td>\n",
              "      <td>0.000000</td>\n",
              "      <td>0.000000</td>\n",
              "      <td>0.00</td>\n",
              "      <td>0.00</td>\n",
              "      <td>0.00</td>\n",
              "      <td>0.00</td>\n",
              "    </tr>\n",
              "    <tr>\n",
              "      <th>3329</th>\n",
              "      <td>0.000000</td>\n",
              "      <td>0.000000</td>\n",
              "      <td>0.000000</td>\n",
              "      <td>0.000000</td>\n",
              "      <td>0.000000</td>\n",
              "      <td>0.000000</td>\n",
              "      <td>0.000000</td>\n",
              "      <td>0.000000</td>\n",
              "      <td>0.000000</td>\n",
              "      <td>0.000000</td>\n",
              "      <td>0.000000</td>\n",
              "      <td>0.000000</td>\n",
              "      <td>0.000000</td>\n",
              "      <td>0.000000</td>\n",
              "      <td>0.000000</td>\n",
              "      <td>0.000000</td>\n",
              "      <td>0.000000</td>\n",
              "      <td>0.000000</td>\n",
              "      <td>0.000000</td>\n",
              "      <td>0.000000</td>\n",
              "      <td>0.000000</td>\n",
              "      <td>0.000000</td>\n",
              "      <td>0.000000</td>\n",
              "      <td>0.000000</td>\n",
              "      <td>0.000000</td>\n",
              "      <td>0.000000</td>\n",
              "      <td>0.000000</td>\n",
              "      <td>0.000000</td>\n",
              "      <td>0.000000</td>\n",
              "      <td>0.000000</td>\n",
              "      <td>0.000000</td>\n",
              "      <td>0.000000</td>\n",
              "      <td>0.000000</td>\n",
              "      <td>0.000000</td>\n",
              "      <td>0.000000</td>\n",
              "      <td>0.000000</td>\n",
              "      <td>0.000000</td>\n",
              "      <td>0.000000</td>\n",
              "      <td>0.00</td>\n",
              "      <td>0.00</td>\n",
              "      <td>0.00</td>\n",
              "      <td>0.00</td>\n",
              "    </tr>\n",
              "  </tbody>\n",
              "</table>\n",
              "<p>3264 rows × 42 columns</p>\n",
              "</div>"
            ],
            "text/plain": [
              "         Band1     Band2     Band3     Band4  ...  Band39  Band40  Band41  Band42\n",
              "0     0.039940  0.024198  0.112813  0.062288  ...   38.67 -131.43   18.53  -97.49\n",
              "1     0.041253  0.024921  0.113589  0.062666  ...   38.67 -131.43   18.53  -97.49\n",
              "2     0.113306  0.106017  0.170824  0.128386  ...   38.70 -131.48   18.53  -98.91\n",
              "3     0.066146  0.052175  0.137252  0.088771  ...   38.70 -131.48   18.53  -98.91\n",
              "4     0.202981  0.206838  0.241495  0.206545  ...   38.70 -131.48   18.53  -98.91\n",
              "...        ...       ...       ...       ...  ...     ...     ...     ...     ...\n",
              "3325  0.000000  0.000000  0.000000  0.000000  ...    0.00    0.00    0.00    0.00\n",
              "3326  0.000000  0.000000  0.000000  0.000000  ...    0.00    0.00    0.00    0.00\n",
              "3327  0.000000  0.000000  0.000000  0.000000  ...    0.00    0.00    0.00    0.00\n",
              "3328  0.000000  0.000000  0.000000  0.000000  ...    0.00    0.00    0.00    0.00\n",
              "3329  0.000000  0.000000  0.000000  0.000000  ...    0.00    0.00    0.00    0.00\n",
              "\n",
              "[3264 rows x 42 columns]"
            ]
          },
          "metadata": {
            "tags": []
          },
          "execution_count": 12
        }
      ]
    },
    {
      "cell_type": "code",
      "metadata": {
        "id": "ROo_eugoNtuB"
      },
      "source": [
        "x=x.to_numpy()"
      ],
      "execution_count": null,
      "outputs": []
    },
    {
      "cell_type": "code",
      "metadata": {
        "id": "kGCe5vX3Nxq9",
        "outputId": "e44f950e-966a-4846-c46b-62c0b713b8f6",
        "colab": {
          "base_uri": "https://localhost:8080/",
          "height": 241
        }
      },
      "source": [
        "x"
      ],
      "execution_count": null,
      "outputs": [
        {
          "output_type": "execute_result",
          "data": {
            "text/plain": [
              "array([[ 3.99398450e-02,  2.41982280e-02,  1.12812882e-01, ...,\n",
              "        -1.31430000e+02,  1.85300000e+01, -9.74900000e+01],\n",
              "       [ 4.12526590e-02,  2.49205630e-02,  1.13588713e-01, ...,\n",
              "        -1.31430000e+02,  1.85300000e+01, -9.74900000e+01],\n",
              "       [ 1.13305956e-01,  1.06016577e-01,  1.70823882e-01, ...,\n",
              "        -1.31480000e+02,  1.85300000e+01, -9.89100000e+01],\n",
              "       ...,\n",
              "       [ 0.00000000e+00,  0.00000000e+00,  0.00000000e+00, ...,\n",
              "         0.00000000e+00,  0.00000000e+00,  0.00000000e+00],\n",
              "       [ 0.00000000e+00,  0.00000000e+00,  0.00000000e+00, ...,\n",
              "         0.00000000e+00,  0.00000000e+00,  0.00000000e+00],\n",
              "       [ 0.00000000e+00,  0.00000000e+00,  0.00000000e+00, ...,\n",
              "         0.00000000e+00,  0.00000000e+00,  0.00000000e+00]])"
            ]
          },
          "metadata": {
            "tags": []
          },
          "execution_count": 14
        }
      ]
    },
    {
      "cell_type": "code",
      "metadata": {
        "id": "BCtyZHpTN00L",
        "outputId": "b8bb38e9-aee0-470f-bc30-11f966b31482",
        "colab": {
          "base_uri": "https://localhost:8080/",
          "height": 34
        }
      },
      "source": [
        "type(y)"
      ],
      "execution_count": null,
      "outputs": [
        {
          "output_type": "execute_result",
          "data": {
            "text/plain": [
              "pandas.core.series.Series"
            ]
          },
          "metadata": {
            "tags": []
          },
          "execution_count": 15
        }
      ]
    },
    {
      "cell_type": "code",
      "metadata": {
        "id": "k2PZCMsiOREW"
      },
      "source": [
        "x1=df1.loc[:,'Band1':'Band42']"
      ],
      "execution_count": null,
      "outputs": []
    },
    {
      "cell_type": "code",
      "metadata": {
        "id": "6mC_eAM2OaQO",
        "outputId": "55631de2-4bd4-48ea-8689-de7397745ff8",
        "colab": {
          "base_uri": "https://localhost:8080/",
          "height": 34
        }
      },
      "source": [
        "type(x1)"
      ],
      "execution_count": null,
      "outputs": [
        {
          "output_type": "execute_result",
          "data": {
            "text/plain": [
              "pandas.core.frame.DataFrame"
            ]
          },
          "metadata": {
            "tags": []
          },
          "execution_count": 17
        }
      ]
    },
    {
      "cell_type": "code",
      "metadata": {
        "id": "IdKW_Aq5OkB7"
      },
      "source": [
        "y1=df1.loc[:,'dust']"
      ],
      "execution_count": null,
      "outputs": []
    },
    {
      "cell_type": "code",
      "metadata": {
        "id": "l4869VPbOp2O",
        "outputId": "c5bb8663-cbc8-4f8c-d05b-fca54937acb1",
        "colab": {
          "base_uri": "https://localhost:8080/",
          "height": 34
        }
      },
      "source": [
        "type(y1)"
      ],
      "execution_count": null,
      "outputs": [
        {
          "output_type": "execute_result",
          "data": {
            "text/plain": [
              "pandas.core.series.Series"
            ]
          },
          "metadata": {
            "tags": []
          },
          "execution_count": 19
        }
      ]
    },
    {
      "cell_type": "code",
      "metadata": {
        "id": "8PZIFHNqO0qo"
      },
      "source": [
        "y1=y1.to_frame()"
      ],
      "execution_count": null,
      "outputs": []
    },
    {
      "cell_type": "code",
      "metadata": {
        "id": "8qD0ilCqO5XD",
        "outputId": "ed323eea-a580-4aa7-ebb9-3e9e395b4e4e",
        "colab": {
          "base_uri": "https://localhost:8080/",
          "height": 34
        }
      },
      "source": [
        "type(y1)"
      ],
      "execution_count": null,
      "outputs": [
        {
          "output_type": "execute_result",
          "data": {
            "text/plain": [
              "pandas.core.frame.DataFrame"
            ]
          },
          "metadata": {
            "tags": []
          },
          "execution_count": 21
        }
      ]
    },
    {
      "cell_type": "code",
      "metadata": {
        "id": "tOG19GOKQtRR",
        "outputId": "303c4381-122f-4b84-c5a7-1d9def3f0b6c",
        "colab": {
          "base_uri": "https://localhost:8080/",
          "height": 34
        }
      },
      "source": [
        "y1.shape"
      ],
      "execution_count": null,
      "outputs": [
        {
          "output_type": "execute_result",
          "data": {
            "text/plain": [
              "(3264, 1)"
            ]
          },
          "metadata": {
            "tags": []
          },
          "execution_count": 22
        }
      ]
    },
    {
      "cell_type": "code",
      "metadata": {
        "id": "pqkwr6_5QwGq",
        "outputId": "f71625ec-7817-4957-94a8-07f57e9f1be4",
        "colab": {
          "base_uri": "https://localhost:8080/",
          "height": 34
        }
      },
      "source": [
        "x1.shape"
      ],
      "execution_count": null,
      "outputs": [
        {
          "output_type": "execute_result",
          "data": {
            "text/plain": [
              "(3264, 42)"
            ]
          },
          "metadata": {
            "tags": []
          },
          "execution_count": 23
        }
      ]
    },
    {
      "cell_type": "code",
      "metadata": {
        "id": "IatEiW-XQyDR"
      },
      "source": [
        "x1_np= x1.to_numpy()"
      ],
      "execution_count": null,
      "outputs": []
    },
    {
      "cell_type": "code",
      "metadata": {
        "id": "6aFm7-NpQ-aj",
        "outputId": "d21fc123-0c83-4885-ad85-051b26909c87",
        "colab": {
          "base_uri": "https://localhost:8080/",
          "height": 34
        }
      },
      "source": [
        "x1_np.shape"
      ],
      "execution_count": null,
      "outputs": [
        {
          "output_type": "execute_result",
          "data": {
            "text/plain": [
              "(3264, 42)"
            ]
          },
          "metadata": {
            "tags": []
          },
          "execution_count": 25
        }
      ]
    },
    {
      "cell_type": "code",
      "metadata": {
        "id": "GmI-jCHvRA6m",
        "outputId": "c32876c1-eb18-4dd2-ef76-aa012e3de53e",
        "colab": {
          "base_uri": "https://localhost:8080/",
          "height": 34
        }
      },
      "source": [
        "type(x1_np)"
      ],
      "execution_count": null,
      "outputs": [
        {
          "output_type": "execute_result",
          "data": {
            "text/plain": [
              "numpy.ndarray"
            ]
          },
          "metadata": {
            "tags": []
          },
          "execution_count": 26
        }
      ]
    },
    {
      "cell_type": "code",
      "metadata": {
        "id": "8-KbCHpLRLSR"
      },
      "source": [
        "y1_np=y1.to_numpy()"
      ],
      "execution_count": null,
      "outputs": []
    },
    {
      "cell_type": "code",
      "metadata": {
        "id": "mVtCHQ7HRRLQ",
        "outputId": "7a984c14-f775-4bf5-9bf6-e934447442f7",
        "colab": {
          "base_uri": "https://localhost:8080/",
          "height": 34
        }
      },
      "source": [
        "y1_np.shape"
      ],
      "execution_count": null,
      "outputs": [
        {
          "output_type": "execute_result",
          "data": {
            "text/plain": [
              "(3264, 1)"
            ]
          },
          "metadata": {
            "tags": []
          },
          "execution_count": 28
        }
      ]
    },
    {
      "cell_type": "code",
      "metadata": {
        "id": "nHsSn9RfRUG3",
        "outputId": "0386b22c-e9da-4004-fabf-5e65e0676e68",
        "colab": {
          "base_uri": "https://localhost:8080/",
          "height": 34
        }
      },
      "source": [
        "type(y1_np)"
      ],
      "execution_count": null,
      "outputs": [
        {
          "output_type": "execute_result",
          "data": {
            "text/plain": [
              "numpy.ndarray"
            ]
          },
          "metadata": {
            "tags": []
          },
          "execution_count": 29
        }
      ]
    },
    {
      "cell_type": "code",
      "metadata": {
        "id": "Dn9iktmIRgi_"
      },
      "source": [
        "from sklearn.model_selection import train_test_split"
      ],
      "execution_count": null,
      "outputs": []
    },
    {
      "cell_type": "code",
      "metadata": {
        "id": "S_NKFR4CRoi5"
      },
      "source": [
        "X_train, X_test, Y_train, Y_test = train_test_split(x1_np, y1_np, test_size=0.3, random_state=42)"
      ],
      "execution_count": null,
      "outputs": []
    },
    {
      "cell_type": "code",
      "metadata": {
        "id": "8cheG4ICRzMD",
        "outputId": "33330349-21d0-477a-a96c-f93943a71cc3",
        "colab": {
          "base_uri": "https://localhost:8080/",
          "height": 86
        }
      },
      "source": [
        "print(X_train.shape)\n",
        "print(X_test.shape)\n",
        "print(Y_train.shape)\n",
        "print(Y_test.shape)"
      ],
      "execution_count": null,
      "outputs": [
        {
          "output_type": "stream",
          "text": [
            "(2284, 42)\n",
            "(980, 42)\n",
            "(2284, 1)\n",
            "(980, 1)\n"
          ],
          "name": "stdout"
        }
      ]
    },
    {
      "cell_type": "code",
      "metadata": {
        "id": "LISrK7NESHMv"
      },
      "source": [
        "import torch\n",
        "from torch import nn, optim"
      ],
      "execution_count": null,
      "outputs": []
    },
    {
      "cell_type": "code",
      "metadata": {
        "id": "cU8RM1HSSZIV"
      },
      "source": [
        "x_train_tensor = torch.from_numpy(X_train).float()\n",
        "y_train_tensor = torch.from_numpy(Y_train).float()"
      ],
      "execution_count": null,
      "outputs": []
    },
    {
      "cell_type": "code",
      "metadata": {
        "id": "a_oc_HMBShpy"
      },
      "source": [
        "x_test_tensor = torch.tensor(X_test, dtype=torch.float)\n",
        "y_test_tensor = torch.tensor(Y_test, dtype=torch.float)"
      ],
      "execution_count": null,
      "outputs": []
    },
    {
      "cell_type": "code",
      "metadata": {
        "id": "aQOq_bL4SluR",
        "outputId": "47a31917-e9eb-46bb-a282-818428347018",
        "colab": {
          "base_uri": "https://localhost:8080/",
          "height": 34
        }
      },
      "source": [
        "type(x_train_tensor)\n",
        "type(y_train_tensor)"
      ],
      "execution_count": null,
      "outputs": [
        {
          "output_type": "execute_result",
          "data": {
            "text/plain": [
              "torch.Tensor"
            ]
          },
          "metadata": {
            "tags": []
          },
          "execution_count": 36
        }
      ]
    },
    {
      "cell_type": "code",
      "metadata": {
        "id": "zfHARC8JSq9k",
        "outputId": "a469c118-2b7c-4f14-d0af-bf56f8379c2e",
        "colab": {
          "base_uri": "https://localhost:8080/",
          "height": 34
        }
      },
      "source": [
        "type(x_test_tensor)\n",
        "type(y_test_tensor)"
      ],
      "execution_count": null,
      "outputs": [
        {
          "output_type": "execute_result",
          "data": {
            "text/plain": [
              "torch.Tensor"
            ]
          },
          "metadata": {
            "tags": []
          },
          "execution_count": 37
        }
      ]
    },
    {
      "cell_type": "code",
      "metadata": {
        "id": "4R04hh13W4vl",
        "outputId": "618f832a-30b7-4e91-df51-f8111e9a1750",
        "colab": {
          "base_uri": "https://localhost:8080/",
          "height": 34
        }
      },
      "source": [
        "if torch.cuda.is_available:\n",
        "  print('Good to go!')\n",
        "else:\n",
        "  print('Please set GPU via Edit -> Notebook Settings.')"
      ],
      "execution_count": null,
      "outputs": [
        {
          "output_type": "stream",
          "text": [
            "Good to go!\n"
          ],
          "name": "stdout"
        }
      ]
    },
    {
      "cell_type": "code",
      "metadata": {
        "id": "zRIzarj3DPvM"
      },
      "source": [
        "from sklearn.preprocessing import StandardScaler    \n",
        "from sklearn.model_selection import train_test_split\n",
        "from sklearn.metrics import confusion_matrix, classification_report\n",
        "\n",
        "import torch\n",
        "import torch.nn as nn\n",
        "import torch.optim as optim\n",
        "from torch.utils.data import Dataset, DataLoader"
      ],
      "execution_count": null,
      "outputs": []
    },
    {
      "cell_type": "code",
      "metadata": {
        "id": "7YJWNq8jHbFa"
      },
      "source": [
        "X_train, X_test, y_train, y_test = train_test_split(x, y, test_size=0.33, random_state=69)"
      ],
      "execution_count": null,
      "outputs": []
    },
    {
      "cell_type": "code",
      "metadata": {
        "id": "oxmz7-kKDqHp"
      },
      "source": [
        "scaler = StandardScaler()\n",
        "X_train = scaler.fit_transform(X_train)\n",
        "X_test = scaler.fit_transform(X_test)"
      ],
      "execution_count": null,
      "outputs": []
    },
    {
      "cell_type": "code",
      "metadata": {
        "id": "aBbmJAk9DtbO"
      },
      "source": [
        "EPOCHS = 50\n",
        "BATCH_SIZE = 64\n",
        "LEARNING_RATE = 0.05"
      ],
      "execution_count": null,
      "outputs": []
    },
    {
      "cell_type": "code",
      "metadata": {
        "id": "H2qBDRFvGu1i"
      },
      "source": [
        "## train data\n",
        "class trainData(Dataset):\n",
        "    \n",
        "    def __init__(self, X_data, y_data):\n",
        "        self.X_data = X_data\n",
        "        self.y_data = y_data\n",
        "        \n",
        "    def __getitem__(self, index):\n",
        "        return self.X_data[index], self.y_data[index]\n",
        "        \n",
        "    def __len__ (self):\n",
        "        return len(self.X_data)\n",
        "\n",
        "\n",
        "train_data = trainData(torch.FloatTensor(X_train), \n",
        "                       torch.FloatTensor(y_train))\n",
        "## test data    \n",
        "class testData(Dataset):\n",
        "    \n",
        "    def __init__(self, X_data):\n",
        "        self.X_data = X_data\n",
        "        \n",
        "    def __getitem__(self, index):\n",
        "        return self.X_data[index]\n",
        "        \n",
        "    def __len__ (self):\n",
        "        return len(self.X_data)\n",
        "    \n",
        "\n",
        "test_data = testData(torch.FloatTensor(X_test))"
      ],
      "execution_count": null,
      "outputs": []
    },
    {
      "cell_type": "code",
      "metadata": {
        "id": "NK56yDHYHySP"
      },
      "source": [
        "train_loader = DataLoader(dataset=train_data, batch_size=BATCH_SIZE, shuffle=True)\n",
        "test_loader = DataLoader(dataset=test_data, batch_size=1)"
      ],
      "execution_count": null,
      "outputs": []
    },
    {
      "cell_type": "code",
      "metadata": {
        "id": "0p9N3cSAH2fz"
      },
      "source": [
        "class binaryClassification(nn.Module):\n",
        "    def __init__(self):\n",
        "        super(binaryClassification, self).__init__()\n",
        "        # Number of input features is 42.\n",
        "        self.layer_1 = nn.Linear(42, 64) \n",
        "        self.layer_2 = nn.Linear(64, 64)\n",
        "        self.layer_out = nn.Linear(64, 1) \n",
        "        \n",
        "        self.relu = nn.ReLU()\n",
        "        self.dropout = nn.Dropout(p=0.1)\n",
        "        self.batchnorm1 = nn.BatchNorm1d(64)\n",
        "        self.batchnorm2 = nn.BatchNorm1d(64)\n",
        "        \n",
        "    def forward(self, inputs):\n",
        "        x = self.relu(self.layer_1(inputs))\n",
        "        x = self.batchnorm1(x)\n",
        "        x = self.relu(self.layer_2(x))\n",
        "        x = self.batchnorm2(x)\n",
        "        x = self.dropout(x)\n",
        "        x = self.layer_out(x)\n",
        "        \n",
        "        return x"
      ],
      "execution_count": null,
      "outputs": []
    },
    {
      "cell_type": "code",
      "metadata": {
        "id": "cTDBS9sEIAJ8",
        "outputId": "c3a7c398-49f2-482e-ea64-fa8484bec0bf",
        "colab": {
          "base_uri": "https://localhost:8080/",
          "height": 34
        }
      },
      "source": [
        "device = torch.device(\"cuda:0\" )\n",
        "print(device)"
      ],
      "execution_count": null,
      "outputs": [
        {
          "output_type": "stream",
          "text": [
            "cuda:0\n"
          ],
          "name": "stdout"
        }
      ]
    },
    {
      "cell_type": "code",
      "metadata": {
        "id": "bZ6r9ikqH81K",
        "outputId": "4a265fba-de4f-4fb6-e55e-63c2f272746b",
        "colab": {
          "base_uri": "https://localhost:8080/",
          "height": 172
        }
      },
      "source": [
        "model = binaryClassification()\n",
        "model.to(device)\n",
        "print(model)\n",
        "criterion = nn.BCEWithLogitsLoss()\n",
        "optimizer = optim.Adam(model.parameters(), lr=LEARNING_RATE)"
      ],
      "execution_count": null,
      "outputs": [
        {
          "output_type": "stream",
          "text": [
            "binaryClassification(\n",
            "  (layer_1): Linear(in_features=42, out_features=64, bias=True)\n",
            "  (layer_2): Linear(in_features=64, out_features=64, bias=True)\n",
            "  (layer_out): Linear(in_features=64, out_features=1, bias=True)\n",
            "  (relu): ReLU()\n",
            "  (dropout): Dropout(p=0.1, inplace=False)\n",
            "  (batchnorm1): BatchNorm1d(64, eps=1e-05, momentum=0.1, affine=True, track_running_stats=True)\n",
            "  (batchnorm2): BatchNorm1d(64, eps=1e-05, momentum=0.1, affine=True, track_running_stats=True)\n",
            ")\n"
          ],
          "name": "stdout"
        }
      ]
    },
    {
      "cell_type": "code",
      "metadata": {
        "id": "NE2851foKggw"
      },
      "source": [
        "def binary_acc(y_pred, y_test):\n",
        "    y_pred_tag = torch.round(torch.sigmoid(y_pred))\n",
        "\n",
        "    correct_results_sum = (y_pred_tag == y_test).sum().float()\n",
        "    acc = correct_results_sum/y_test.shape[0]\n",
        "    acc = torch.round(acc * 100)\n",
        "    \n",
        "    return acc"
      ],
      "execution_count": null,
      "outputs": []
    },
    {
      "cell_type": "code",
      "metadata": {
        "id": "DnBbUV5IKmXf",
        "outputId": "748b4a2d-e528-473b-fe61-67a674568ae0",
        "colab": {
          "base_uri": "https://localhost:8080/",
          "height": 881
        }
      },
      "source": [
        "model.train()\n",
        "for e in range(1, EPOCHS+1):\n",
        "    epoch_loss = 0\n",
        "    epoch_acc = 0\n",
        "    for X_batch, y_batch in train_loader:\n",
        "        X_batch, y_batch = X_batch.to(device), y_batch.to(device)\n",
        "        optimizer.zero_grad()\n",
        "        \n",
        "        y_pred = model(X_batch)\n",
        "        \n",
        "        loss = criterion(y_pred, y_batch.unsqueeze(1))\n",
        "        acc = binary_acc(y_pred, y_batch.unsqueeze(1))\n",
        "        \n",
        "        loss.backward()\n",
        "        optimizer.step()\n",
        "        \n",
        "        epoch_loss += loss.item()\n",
        "        epoch_acc += acc.item()\n",
        "        \n",
        "\n",
        "    print(f'Epoch {e+0:03}: | Loss: {epoch_loss/len(train_loader):.5f} | Acc: {epoch_acc/len(train_loader):.3f}')"
      ],
      "execution_count": null,
      "outputs": [
        {
          "output_type": "stream",
          "text": [
            "Epoch 001: | Loss: 0.42441 | Acc: 83.371\n",
            "Epoch 002: | Loss: 0.29267 | Acc: 89.400\n",
            "Epoch 003: | Loss: 0.29065 | Acc: 89.000\n",
            "Epoch 004: | Loss: 0.29142 | Acc: 88.400\n",
            "Epoch 005: | Loss: 0.28317 | Acc: 88.800\n",
            "Epoch 006: | Loss: 0.28089 | Acc: 88.743\n",
            "Epoch 007: | Loss: 0.27978 | Acc: 88.800\n",
            "Epoch 008: | Loss: 0.26955 | Acc: 89.000\n",
            "Epoch 009: | Loss: 0.28124 | Acc: 89.257\n",
            "Epoch 010: | Loss: 0.28127 | Acc: 88.800\n",
            "Epoch 011: | Loss: 0.27559 | Acc: 88.829\n",
            "Epoch 012: | Loss: 0.27860 | Acc: 88.914\n",
            "Epoch 013: | Loss: 0.26740 | Acc: 89.286\n",
            "Epoch 014: | Loss: 0.25957 | Acc: 89.257\n",
            "Epoch 015: | Loss: 0.28066 | Acc: 88.171\n",
            "Epoch 016: | Loss: 0.26700 | Acc: 89.200\n",
            "Epoch 017: | Loss: 0.26152 | Acc: 89.343\n",
            "Epoch 018: | Loss: 0.27358 | Acc: 88.857\n",
            "Epoch 019: | Loss: 0.26177 | Acc: 89.371\n",
            "Epoch 020: | Loss: 0.26430 | Acc: 89.286\n",
            "Epoch 021: | Loss: 0.26700 | Acc: 89.571\n",
            "Epoch 022: | Loss: 0.26087 | Acc: 89.314\n",
            "Epoch 023: | Loss: 0.26443 | Acc: 89.057\n",
            "Epoch 024: | Loss: 0.26234 | Acc: 88.971\n",
            "Epoch 025: | Loss: 0.25913 | Acc: 89.171\n",
            "Epoch 026: | Loss: 0.26111 | Acc: 88.629\n",
            "Epoch 027: | Loss: 0.26847 | Acc: 89.029\n",
            "Epoch 028: | Loss: 0.25407 | Acc: 89.200\n",
            "Epoch 029: | Loss: 0.25681 | Acc: 89.114\n",
            "Epoch 030: | Loss: 0.25745 | Acc: 88.886\n",
            "Epoch 031: | Loss: 0.26567 | Acc: 88.629\n",
            "Epoch 032: | Loss: 0.25862 | Acc: 88.714\n",
            "Epoch 033: | Loss: 0.25877 | Acc: 88.914\n",
            "Epoch 034: | Loss: 0.24888 | Acc: 88.829\n",
            "Epoch 035: | Loss: 0.25185 | Acc: 89.171\n",
            "Epoch 036: | Loss: 0.27706 | Acc: 88.171\n",
            "Epoch 037: | Loss: 0.27838 | Acc: 89.143\n",
            "Epoch 038: | Loss: 0.27985 | Acc: 88.486\n",
            "Epoch 039: | Loss: 0.26714 | Acc: 89.257\n",
            "Epoch 040: | Loss: 0.26047 | Acc: 89.029\n",
            "Epoch 041: | Loss: 0.25303 | Acc: 89.057\n",
            "Epoch 042: | Loss: 0.25108 | Acc: 88.857\n",
            "Epoch 043: | Loss: 0.26066 | Acc: 89.086\n",
            "Epoch 044: | Loss: 0.25285 | Acc: 89.686\n",
            "Epoch 045: | Loss: 0.24979 | Acc: 89.286\n",
            "Epoch 046: | Loss: 0.25518 | Acc: 88.543\n",
            "Epoch 047: | Loss: 0.26018 | Acc: 88.571\n",
            "Epoch 048: | Loss: 0.25933 | Acc: 88.314\n",
            "Epoch 049: | Loss: 0.25320 | Acc: 89.057\n",
            "Epoch 050: | Loss: 0.24878 | Acc: 89.114\n"
          ],
          "name": "stdout"
        }
      ]
    },
    {
      "cell_type": "code",
      "metadata": {
        "id": "2xshqzB4L_do"
      },
      "source": [
        "y_pred_list = []\n",
        "model.eval()\n",
        "with torch.no_grad():\n",
        "    for X_batch in test_loader:\n",
        "        X_batch = X_batch.to(device)\n",
        "        y_test_pred = model(X_batch)\n",
        "        y_test_pred = torch.sigmoid(y_test_pred)\n",
        "        y_pred_tag = torch.round(y_test_pred)\n",
        "        y_pred_list.append(y_pred_tag.cpu().numpy())\n",
        "\n",
        "y_pred_list = [a.squeeze().tolist() for a in y_pred_list]"
      ],
      "execution_count": null,
      "outputs": []
    },
    {
      "cell_type": "code",
      "metadata": {
        "id": "vGdVU2zjMHS6",
        "outputId": "80121051-c861-4328-d26c-d0925e93940c",
        "colab": {
          "base_uri": "https://localhost:8080/",
          "height": 51
        }
      },
      "source": [
        "confusion_matrix(y_test, y_pred_list)"
      ],
      "execution_count": null,
      "outputs": [
        {
          "output_type": "execute_result",
          "data": {
            "text/plain": [
              "array([[936,   0],\n",
              "       [142,   0]])"
            ]
          },
          "metadata": {
            "tags": []
          },
          "execution_count": 51
        }
      ]
    }
  ]
}